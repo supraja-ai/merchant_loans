{
 "cells": [
  {
   "cell_type": "code",
   "execution_count": null,
   "metadata": {},
   "outputs": [
    {
     "name": "stdout",
     "output_type": "stream",
     "text": [
      "Requirement already satisfied: nltk in c:\\users\\naveen\\appdata\\local\\programs\\python\\python311\\lib\\site-packages (3.9.1)\n",
      "Requirement already satisfied: click in c:\\users\\naveen\\appdata\\local\\programs\\python\\python311\\lib\\site-packages (from nltk) (8.1.8)\n",
      "Requirement already satisfied: joblib in c:\\users\\naveen\\appdata\\local\\programs\\python\\python311\\lib\\site-packages (from nltk) (1.4.2)\n",
      "Requirement already satisfied: regex>=2021.8.3 in c:\\users\\naveen\\appdata\\local\\programs\\python\\python311\\lib\\site-packages (from nltk) (2024.11.6)\n",
      "Requirement already satisfied: tqdm in c:\\users\\naveen\\appdata\\local\\programs\\python\\python311\\lib\\site-packages (from nltk) (4.67.1)\n",
      "Requirement already satisfied: colorama in c:\\users\\naveen\\appdata\\roaming\\python\\python311\\site-packages (from click->nltk) (0.4.6)\n",
      "Note: you may need to restart the kernel to use updated packages.\n"
     ]
    }
   ],
   "source": [
    "%pip install nltk\n",
    "!python3 -m nltk.downloader all\n",
    "%pip install spacy\n",
    "!python3 -m spacy download en_core_web_sm\n",
    "%pip  install gensim\n",
    "%pip install textblob"
   ]
  },
  {
   "cell_type": "code",
   "execution_count": 1,
   "metadata": {},
   "outputs": [
    {
     "name": "stderr",
     "output_type": "stream",
     "text": [
      "[nltk_data] Downloading package stopwords to\n",
      "[nltk_data]     C:\\Users\\Naveen\\AppData\\Roaming\\nltk_data...\n",
      "[nltk_data]   Package stopwords is already up-to-date!\n",
      "[nltk_data] Downloading package punkt_tab to\n",
      "[nltk_data]     C:\\Users\\Naveen\\AppData\\Roaming\\nltk_data...\n",
      "[nltk_data]   Package punkt_tab is already up-to-date!\n"
     ]
    },
    {
     "data": {
      "text/plain": [
       "True"
      ]
     },
     "execution_count": 1,
     "metadata": {},
     "output_type": "execute_result"
    }
   ],
   "source": [
    "import nltk\n",
    "from nltk.tokenize import word_tokenize, sent_tokenize\n",
    "import re\n",
    "import nltk\n",
    "from nltk.corpus import stopwords\n",
    "from nltk.tokenize import word_tokenize\n",
    "\n",
    "# Download necessary NLTK resources\n",
    "#nltk.download('punkt')\n",
    "nltk.download('stopwords')\n",
    "nltk.download('punkt_tab')\n"
   ]
  },
  {
   "cell_type": "code",
   "execution_count": 2,
   "metadata": {},
   "outputs": [
    {
     "name": "stdout",
     "output_type": "stream",
     "text": [
      "Sentence Tokenization: ['The Python language has several use cases in application development, including the following examples:\\n\\nServer-side web development\\nServer-side web development includes the complex backend functions that websites perform to display information to the user.', 'For example, websites must interact with databases, talk to other websites, and protect data when sending it over the network.', 'Python is useful for writing server-side code because it offers many libraries that consist of prewritten code for complex backend functions.', 'Developers also use a wide range of Python frameworks that provide all the necessary tools to build web applications faster and more easily.', 'For example, developers can create the skeleton web application in seconds because they don’t need to write it from scratch.', 'They can then test it using the framework’s testing tools, without depending on external testing tools.']\n",
      "Word Tokenization: ['The', 'Python', 'language', 'has', 'several', 'use', 'cases', 'in', 'application', 'development', ',', 'including', 'the', 'following', 'examples', ':', 'Server-side', 'web', 'development', 'Server-side', 'web', 'development', 'includes', 'the', 'complex', 'backend', 'functions', 'that', 'websites', 'perform', 'to', 'display', 'information', 'to', 'the', 'user', '.', 'For', 'example', ',', 'websites', 'must', 'interact', 'with', 'databases', ',', 'talk', 'to', 'other', 'websites', ',', 'and', 'protect', 'data', 'when', 'sending', 'it', 'over', 'the', 'network', '.', 'Python', 'is', 'useful', 'for', 'writing', 'server-side', 'code', 'because', 'it', 'offers', 'many', 'libraries', 'that', 'consist', 'of', 'prewritten', 'code', 'for', 'complex', 'backend', 'functions', '.', 'Developers', 'also', 'use', 'a', 'wide', 'range', 'of', 'Python', 'frameworks', 'that', 'provide', 'all', 'the', 'necessary', 'tools', 'to', 'build', 'web', 'applications', 'faster', 'and', 'more', 'easily', '.', 'For', 'example', ',', 'developers', 'can', 'create', 'the', 'skeleton', 'web', 'application', 'in', 'seconds', 'because', 'they', 'don', '’', 't', 'need', 'to', 'write', 'it', 'from', 'scratch', '.', 'They', 'can', 'then', 'test', 'it', 'using', 'the', 'framework', '’', 's', 'testing', 'tools', ',', 'without', 'depending', 'on', 'external', 'testing', 'tools', '.']\n"
     ]
    }
   ],
   "source": [
    "\n",
    "text = \"Natural Language Processing is amazing. It allows machines to understand text.\"\n",
    "new_text = \"\"\"The Python language has several use cases in application development, including the following examples:\n",
    "\n",
    "Server-side web development\n",
    "Server-side web development includes the complex backend functions that websites perform to display information to the user. For example, websites must interact with databases, talk to other websites, and protect data when sending it over the network. \n",
    "\n",
    "Python is useful for writing server-side code because it offers many libraries that consist of prewritten code for complex backend functions. Developers also use a wide range of Python frameworks that provide all the necessary tools to build web applications faster and more easily. For example, developers can create the skeleton web application in seconds because they don’t need to write it from scratch. They can then test it using the framework’s testing tools, without depending on external testing tools.\"\"\"\n",
    "\n",
    "print(\"Sentence Tokenization:\", sent_tokenize(new_text, language=\"english\"))\n",
    "print(\"Word Tokenization:\", word_tokenize(new_text))"
   ]
  },
  {
   "cell_type": "code",
   "execution_count": 5,
   "metadata": {},
   "outputs": [
    {
     "name": "stdout",
     "output_type": "stream",
     "text": [
      "['python', 'language', 'several', 'use', 'cases', 'application', 'development', 'including', 'following', 'examples', 'serverside', 'web', 'development', 'serverside', 'web', 'development', 'includes', 'complex', 'backend', 'functions', 'websites', 'perform', 'display', 'information', 'user', 'example', 'websites', 'must', 'interact', 'databases', 'talk', 'websites', 'protect', 'data', 'sending', 'network', 'python', 'useful', 'writing', 'serverside', 'code', 'offers', 'many', 'libraries', 'consist', 'prewritten', 'code', 'complex', 'backend', 'functions', 'developers', 'also', 'use', 'wide', 'range', 'python', 'frameworks', 'provide', 'necessary', 'tools', 'build', 'web', 'applications', 'faster', 'easily', 'example', 'developers', 'create', 'skeleton', 'web', 'application', 'seconds', 'dont', 'need', 'write', 'scratch', 'test', 'using', 'frameworks', 'testing', 'tools', 'without', 'depending', 'external', 'testing', 'tools']\n"
     ]
    }
   ],
   "source": [
    "\n",
    "\n",
    "def preprocess_text(text):\n",
    "    # Convert to lowercase\n",
    "    text = text.lower()\n",
    "    # Remove special characters and digits\n",
    "    text = re.sub(r'[^\\w\\s]', '', text)\n",
    "    text = re.sub(r'\\d+', '', text)\n",
    "\n",
    "    # Tokenize the text\n",
    "    tokens = word_tokenize(text)\n",
    "\n",
    "    # Remove stopwords\n",
    "    stop_words = set(stopwords.words('english'))\n",
    "    tokens = [token for token in tokens if token not in stop_words]\n",
    "\n",
    "    return tokens\n",
    "\n",
    "# Example usage\n",
    "sample_text = \"Natural Language Processing (NLP) is a subfield of linguistics, computer science, and artificial intelligence.\"\n",
    "processed_tokens = preprocess_text(new_text)\n",
    "print(processed_tokens)"
   ]
  },
  {
   "cell_type": "code",
   "execution_count": 6,
   "metadata": {},
   "outputs": [
    {
     "name": "stdout",
     "output_type": "stream",
     "text": [
      "['The', 'Python', 'language', 'has', 'several', 'use', 'cases', 'in', 'application', 'development', ',', 'including', 'the', 'following', 'examples', ':', 'Server-side', 'web', 'development', 'Server-side', 'web', 'development', 'includes', 'the', 'complex', 'backend', 'functions', 'that', 'websites', 'perform', 'to', 'display', 'information', 'to', 'the', 'user', '.', 'For', 'example', ',', 'websites', 'must', 'interact', 'with', 'databases', ',', 'talk', 'to', 'other', 'websites', ',', 'and', 'protect', 'data', 'when', 'sending', 'it', 'over', 'the', 'network', '.', 'Python', 'is', 'useful', 'for', 'writing', 'server-side', 'code', 'because', 'it', 'offers', 'many', 'libraries', 'that', 'consist', 'of', 'prewritten', 'code', 'for', 'complex', 'backend', 'functions', '.', 'Developers', 'also', 'use', 'a', 'wide', 'range', 'of', 'Python', 'frameworks', 'that', 'provide', 'all', 'the', 'necessary', 'tools', 'to', 'build', 'web', 'applications', 'faster', 'and', 'more', 'easily', '.', 'For', 'example', ',', 'developers', 'can', 'create', 'the', 'skeleton', 'web', 'application', 'in', 'seconds', 'because', 'they', 'don', '’', 't', 'need', 'to', 'write', 'it', 'from', 'scratch', '.', 'They', 'can', 'then', 'test', 'it', 'using', 'the', 'framework', '’', 's', 'testing', 'tools', ',', 'without', 'depending', 'on', 'external', 'testing', 'tools', '.']\n",
      "Filtered Words: ['Python', 'language', 'several', 'use', 'cases', 'application', 'development', ',', 'including', 'following', 'examples', ':', 'Server-side', 'web', 'development', 'Server-side', 'web', 'development', 'includes', 'complex', 'backend', 'functions', 'websites', 'perform', 'display', 'information', 'user', '.', 'example', ',', 'websites', 'must', 'interact', 'databases', ',', 'talk', 'websites', ',', 'protect', 'data', 'sending', 'network', '.', 'Python', 'useful', 'writing', 'server-side', 'code', 'offers', 'many', 'libraries', 'consist', 'prewritten', 'code', 'complex', 'backend', 'functions', '.', 'Developers', 'also', 'use', 'wide', 'range', 'Python', 'frameworks', 'provide', 'necessary', 'tools', 'build', 'web', 'applications', 'faster', 'easily', '.', 'example', ',', 'developers', 'create', 'skeleton', 'web', 'application', 'seconds', '’', 'need', 'write', 'scratch', '.', 'test', 'using', 'framework', '’', 'testing', 'tools', ',', 'without', 'depending', 'external', 'testing', 'tools', '.']\n"
     ]
    },
    {
     "name": "stderr",
     "output_type": "stream",
     "text": [
      "[nltk_data] Downloading package stopwords to\n",
      "[nltk_data]     C:\\Users\\Naveen\\AppData\\Roaming\\nltk_data...\n",
      "[nltk_data]   Package stopwords is already up-to-date!\n"
     ]
    }
   ],
   "source": [
    "from nltk.corpus import stopwords\n",
    "\n",
    "nltk.download('stopwords')\n",
    "stop_words = set(stopwords.words('english'))\n",
    "text = \"Natural Language Processing is amazing. It allows machines to understand text.\"\n",
    "words = word_tokenize(new_text)\n",
    "print(words)\n",
    "filtered_words = [word for word in words if word.lower() not in stop_words]\n",
    "\n",
    "print(\"Filtered Words:\", filtered_words)\n",
    "#processed_tokens = preprocess_text(filtered_words)\n",
    "#print(\"Processed Words:\", processed_tokens)\n"
   ]
  },
  {
   "cell_type": "code",
   "execution_count": null,
   "metadata": {},
   "outputs": [],
   "source": []
  },
  {
   "cell_type": "code",
   "execution_count": 7,
   "metadata": {},
   "outputs": [
    {
     "name": "stdout",
     "output_type": "stream",
     "text": [
      "['python', 'language', 'several', 'use', 'cases', 'application', 'development', 'including', 'following', 'examples', 'serverside', 'web', 'development', 'serverside', 'web', 'development', 'includes', 'complex', 'backend', 'functions', 'websites', 'perform', 'display', 'information', 'user', 'example', 'websites', 'must', 'interact', 'databases', 'talk', 'websites', 'protect', 'data', 'sending', 'network', 'python', 'useful', 'writing', 'serverside', 'code', 'offers', 'many', 'libraries', 'consist', 'prewritten', 'code', 'complex', 'backend', 'functions', 'developers', 'also', 'use', 'wide', 'range', 'python', 'frameworks', 'provide', 'necessary', 'tools', 'build', 'web', 'applications', 'faster', 'easily', 'example', 'developers', 'create', 'skeleton', 'web', 'application', 'seconds', 'dont', 'need', 'write', 'scratch', 'test', 'using', 'frameworks', 'testing', 'tools', 'without', 'depending', 'external', 'testing', 'tools']\n",
      "['python', 'languag', 'sever', 'use', 'case', 'applic', 'develop', 'includ', 'follow', 'exampl', 'serversid', 'web', 'develop', 'serversid', 'web', 'develop', 'includ', 'complex', 'backend', 'function', 'websit', 'perform', 'display', 'inform', 'user', 'exampl', 'websit', 'must', 'interact', 'databas', 'talk', 'websit', 'protect', 'data', 'send', 'network', 'python', 'use', 'write', 'serversid', 'code', 'offer', 'mani', 'librari', 'consist', 'prewritten', 'code', 'complex', 'backend', 'function', 'develop', 'also', 'use', 'wide', 'rang', 'python', 'framework', 'provid', 'necessari', 'tool', 'build', 'web', 'applic', 'faster', 'easili', 'exampl', 'develop', 'creat', 'skeleton', 'web', 'applic', 'second', 'dont', 'need', 'write', 'scratch', 'test', 'use', 'framework', 'test', 'tool', 'without', 'depend', 'extern', 'test', 'tool']\n"
     ]
    }
   ],
   "source": [
    "from nltk.stem import PorterStemmer\n",
    "\n",
    "ps = PorterStemmer()\n",
    "print(processed_tokens)\n",
    "words = processed_tokens#[\"running\", \"flies\", \"easily\", \"fairly\"]\n",
    "print([ps.stem(word) for word in words])"
   ]
  },
  {
   "cell_type": "code",
   "execution_count": 23,
   "metadata": {},
   "outputs": [
    {
     "name": "stdout",
     "output_type": "stream",
     "text": [
      "Requirement already satisfied: spacy in c:\\users\\naveen\\appdata\\local\\programs\\python\\python311\\lib\\site-packages (3.8.4)\n",
      "Requirement already satisfied: spacy-legacy<3.1.0,>=3.0.11 in c:\\users\\naveen\\appdata\\local\\programs\\python\\python311\\lib\\site-packages (from spacy) (3.0.12)\n",
      "Requirement already satisfied: spacy-loggers<2.0.0,>=1.0.0 in c:\\users\\naveen\\appdata\\local\\programs\\python\\python311\\lib\\site-packages (from spacy) (1.0.5)\n",
      "Requirement already satisfied: murmurhash<1.1.0,>=0.28.0 in c:\\users\\naveen\\appdata\\local\\programs\\python\\python311\\lib\\site-packages (from spacy) (1.0.12)\n",
      "Requirement already satisfied: cymem<2.1.0,>=2.0.2 in c:\\users\\naveen\\appdata\\local\\programs\\python\\python311\\lib\\site-packages (from spacy) (2.0.11)\n",
      "Requirement already satisfied: preshed<3.1.0,>=3.0.2 in c:\\users\\naveen\\appdata\\local\\programs\\python\\python311\\lib\\site-packages (from spacy) (3.0.9)\n",
      "Requirement already satisfied: thinc<8.4.0,>=8.3.4 in c:\\users\\naveen\\appdata\\local\\programs\\python\\python311\\lib\\site-packages (from spacy) (8.3.4)\n",
      "Requirement already satisfied: wasabi<1.2.0,>=0.9.1 in c:\\users\\naveen\\appdata\\local\\programs\\python\\python311\\lib\\site-packages (from spacy) (1.1.3)\n",
      "Requirement already satisfied: srsly<3.0.0,>=2.4.3 in c:\\users\\naveen\\appdata\\local\\programs\\python\\python311\\lib\\site-packages (from spacy) (2.5.1)\n",
      "Requirement already satisfied: catalogue<2.1.0,>=2.0.6 in c:\\users\\naveen\\appdata\\local\\programs\\python\\python311\\lib\\site-packages (from spacy) (2.0.10)\n",
      "Requirement already satisfied: weasel<0.5.0,>=0.1.0 in c:\\users\\naveen\\appdata\\local\\programs\\python\\python311\\lib\\site-packages (from spacy) (0.4.1)\n",
      "Requirement already satisfied: typer<1.0.0,>=0.3.0 in c:\\users\\naveen\\appdata\\local\\programs\\python\\python311\\lib\\site-packages (from spacy) (0.15.2)\n",
      "Requirement already satisfied: tqdm<5.0.0,>=4.38.0 in c:\\users\\naveen\\appdata\\local\\programs\\python\\python311\\lib\\site-packages (from spacy) (4.67.1)\n",
      "Requirement already satisfied: numpy>=1.19.0 in c:\\users\\naveen\\appdata\\local\\programs\\python\\python311\\lib\\site-packages (from spacy) (1.26.4)\n",
      "Requirement already satisfied: requests<3.0.0,>=2.13.0 in c:\\users\\naveen\\appdata\\local\\programs\\python\\python311\\lib\\site-packages (from spacy) (2.32.3)\n",
      "Requirement already satisfied: pydantic!=1.8,!=1.8.1,<3.0.0,>=1.7.4 in c:\\users\\naveen\\appdata\\local\\programs\\python\\python311\\lib\\site-packages (from spacy) (2.10.6)\n",
      "Requirement already satisfied: jinja2 in c:\\users\\naveen\\appdata\\local\\programs\\python\\python311\\lib\\site-packages (from spacy) (3.1.5)\n",
      "Requirement already satisfied: setuptools in c:\\users\\naveen\\appdata\\local\\programs\\python\\python311\\lib\\site-packages (from spacy) (65.5.0)\n",
      "Requirement already satisfied: packaging>=20.0 in c:\\users\\naveen\\appdata\\roaming\\python\\python311\\site-packages (from spacy) (24.2)\n",
      "Requirement already satisfied: langcodes<4.0.0,>=3.2.0 in c:\\users\\naveen\\appdata\\local\\programs\\python\\python311\\lib\\site-packages (from spacy) (3.5.0)\n",
      "Requirement already satisfied: language-data>=1.2 in c:\\users\\naveen\\appdata\\local\\programs\\python\\python311\\lib\\site-packages (from langcodes<4.0.0,>=3.2.0->spacy) (1.3.0)\n",
      "Requirement already satisfied: annotated-types>=0.6.0 in c:\\users\\naveen\\appdata\\local\\programs\\python\\python311\\lib\\site-packages (from pydantic!=1.8,!=1.8.1,<3.0.0,>=1.7.4->spacy) (0.7.0)\n",
      "Requirement already satisfied: pydantic-core==2.27.2 in c:\\users\\naveen\\appdata\\local\\programs\\python\\python311\\lib\\site-packages (from pydantic!=1.8,!=1.8.1,<3.0.0,>=1.7.4->spacy) (2.27.2)\n",
      "Requirement already satisfied: typing-extensions>=4.12.2 in c:\\users\\naveen\\appdata\\roaming\\python\\python311\\site-packages (from pydantic!=1.8,!=1.8.1,<3.0.0,>=1.7.4->spacy) (4.12.2)\n",
      "Requirement already satisfied: charset-normalizer<4,>=2 in c:\\users\\naveen\\appdata\\local\\programs\\python\\python311\\lib\\site-packages (from requests<3.0.0,>=2.13.0->spacy) (3.4.1)\n",
      "Requirement already satisfied: idna<4,>=2.5 in c:\\users\\naveen\\appdata\\local\\programs\\python\\python311\\lib\\site-packages (from requests<3.0.0,>=2.13.0->spacy) (3.10)\n",
      "Requirement already satisfied: urllib3<3,>=1.21.1 in c:\\users\\naveen\\appdata\\local\\programs\\python\\python311\\lib\\site-packages (from requests<3.0.0,>=2.13.0->spacy) (2.3.0)\n",
      "Requirement already satisfied: certifi>=2017.4.17 in c:\\users\\naveen\\appdata\\local\\programs\\python\\python311\\lib\\site-packages (from requests<3.0.0,>=2.13.0->spacy) (2025.1.31)\n",
      "Requirement already satisfied: blis<1.3.0,>=1.2.0 in c:\\users\\naveen\\appdata\\local\\programs\\python\\python311\\lib\\site-packages (from thinc<8.4.0,>=8.3.4->spacy) (1.2.0)\n",
      "Requirement already satisfied: confection<1.0.0,>=0.0.1 in c:\\users\\naveen\\appdata\\local\\programs\\python\\python311\\lib\\site-packages (from thinc<8.4.0,>=8.3.4->spacy) (0.1.5)\n",
      "Requirement already satisfied: colorama in c:\\users\\naveen\\appdata\\roaming\\python\\python311\\site-packages (from tqdm<5.0.0,>=4.38.0->spacy) (0.4.6)\n",
      "Requirement already satisfied: click>=8.0.0 in c:\\users\\naveen\\appdata\\local\\programs\\python\\python311\\lib\\site-packages (from typer<1.0.0,>=0.3.0->spacy) (8.1.8)\n",
      "Requirement already satisfied: shellingham>=1.3.0 in c:\\users\\naveen\\appdata\\local\\programs\\python\\python311\\lib\\site-packages (from typer<1.0.0,>=0.3.0->spacy) (1.5.4)\n",
      "Requirement already satisfied: rich>=10.11.0 in c:\\users\\naveen\\appdata\\local\\programs\\python\\python311\\lib\\site-packages (from typer<1.0.0,>=0.3.0->spacy) (13.9.4)\n",
      "Requirement already satisfied: cloudpathlib<1.0.0,>=0.7.0 in c:\\users\\naveen\\appdata\\local\\programs\\python\\python311\\lib\\site-packages (from weasel<0.5.0,>=0.1.0->spacy) (0.20.0)\n",
      "Requirement already satisfied: smart-open<8.0.0,>=5.2.1 in c:\\users\\naveen\\appdata\\local\\programs\\python\\python311\\lib\\site-packages (from weasel<0.5.0,>=0.1.0->spacy) (7.1.0)\n",
      "Requirement already satisfied: MarkupSafe>=2.0 in c:\\users\\naveen\\appdata\\local\\programs\\python\\python311\\lib\\site-packages (from jinja2->spacy) (3.0.2)\n",
      "Requirement already satisfied: marisa-trie>=1.1.0 in c:\\users\\naveen\\appdata\\local\\programs\\python\\python311\\lib\\site-packages (from language-data>=1.2->langcodes<4.0.0,>=3.2.0->spacy) (1.2.1)\n",
      "Requirement already satisfied: markdown-it-py>=2.2.0 in c:\\users\\naveen\\appdata\\local\\programs\\python\\python311\\lib\\site-packages (from rich>=10.11.0->typer<1.0.0,>=0.3.0->spacy) (3.0.0)\n",
      "Requirement already satisfied: pygments<3.0.0,>=2.13.0 in c:\\users\\naveen\\appdata\\roaming\\python\\python311\\site-packages (from rich>=10.11.0->typer<1.0.0,>=0.3.0->spacy) (2.19.1)\n",
      "Requirement already satisfied: wrapt in c:\\users\\naveen\\appdata\\local\\programs\\python\\python311\\lib\\site-packages (from smart-open<8.0.0,>=5.2.1->weasel<0.5.0,>=0.1.0->spacy) (1.17.2)\n",
      "Requirement already satisfied: mdurl~=0.1 in c:\\users\\naveen\\appdata\\local\\programs\\python\\python311\\lib\\site-packages (from markdown-it-py>=2.2.0->rich>=10.11.0->typer<1.0.0,>=0.3.0->spacy) (0.1.2)\n",
      "Note: you may need to restart the kernel to use updated packages.\n",
      "['python', 'languag', 'sever', 'use', 'case', 'applic', 'develop', 'includ', 'follow', 'exampl', 'serversid', 'web', 'develop', 'serversid', 'web', 'develop', 'includ', 'complex', 'backend', 'function', 'websit', 'perform', 'display', 'inform', 'user', 'exampl', 'websit', 'must', 'interact', 'databas', 'talk', 'websit', 'protect', 'data', 'send', 'network', 'python', 'use', 'write', 'serversid', 'code', 'offer', 'mani', 'librari', 'consist', 'prewritten', 'code', 'complex', 'backend', 'function', 'develop', 'also', 'use', 'wide', 'rang', 'python', 'framework', 'provid', 'necessari', 'tool', 'build', 'web', 'applic', 'faster', 'easili', 'exampl', 'develop', 'creat', 'skeleton', 'web', 'applic', 'second', 'dont', 'need', 'write', 'scratch', 'test', 'use', 'framework', 'test', 'tool', 'without', 'depend', 'extern', 'test', 'tool']\n",
      "['the', 'Python', 'language', 'have', 'several', 'use', 'case', 'in', 'application', 'development', ',', 'include', 'the', 'follow', 'example', ':', '\\n\\n', 'server', '-', 'side', 'web', 'development', '\\n', 'Server', '-', 'side', 'web', 'development', 'include', 'the', 'complex', 'backend', 'function', 'that', 'website', 'perform', 'to', 'display', 'information', 'to', 'the', 'user', '.', 'for', 'example', ',', 'website', 'must', 'interact', 'with', 'database', ',', 'talk', 'to', 'other', 'website', ',', 'and', 'protect', 'datum', 'when', 'send', 'it', 'over', 'the', 'network', '.', '\\n\\n', 'Python', 'be', 'useful', 'for', 'write', 'server', '-', 'side', 'code', 'because', 'it', 'offer', 'many', 'library', 'that', 'consist', 'of', 'prewritten', 'code', 'for', 'complex', 'backend', 'function', '.', 'developer', 'also', 'use', 'a', 'wide', 'range', 'of', 'Python', 'framework', 'that', 'provide', 'all', 'the', 'necessary', 'tool', 'to', 'build', 'web', 'application', 'fast', 'and', 'more', 'easily', '.', 'for', 'example', ',', 'developer', 'can', 'create', 'the', 'skeleton', 'web', 'application', 'in', 'second', 'because', 'they', 'do', 'not', 'need', 'to', 'write', 'it', 'from', 'scratch', '.', 'they', 'can', 'then', 'test', 'it', 'use', 'the', 'framework', '’s', 'testing', 'tool', ',', 'without', 'depend', 'on', 'external', 'testing', 'tool', '.']\n"
     ]
    }
   ],
   "source": [
    "%pip install spacy\n",
    "\n",
    "input_string = \"\"\"The Python language has several use cases in application development, including the following examples:\n",
    "\n",
    "Server-side web development\n",
    "Server-side web development includes the complex backend functions that websites perform to display information to the user. For example, websites must interact with databases, talk to other websites, and protect data when sending it over the network. \n",
    "\n",
    "Python is useful for writing server-side code because it offers many libraries that consist of prewritten code for complex backend functions. Developers also use a wide range of Python frameworks that provide all the necessary tools to build web applications faster and more easily. For example, developers can create the skeleton web application in seconds because they don’t need to write it from scratch. They can then test it using the framework’s testing tools, without depending on external testing tools.\"\"\"\n",
    "\n",
    "doc = nlp(input_string)\n",
    "print([ps.stem(word) for word in words])\n",
    "print([token.lemma_ for token in doc])"
   ]
  },
  {
   "cell_type": "code",
   "execution_count": 19,
   "metadata": {},
   "outputs": [
    {
     "name": "stderr",
     "output_type": "stream",
     "text": [
      "[nltk_data] Downloading package wordnet to\n",
      "[nltk_data]     C:\\Users\\Naveen\\AppData\\Roaming\\nltk_data...\n"
     ]
    },
    {
     "name": "stdout",
     "output_type": "stream",
     "text": [
      "rocks : rock\n",
      "corpora : corpus\n",
      "better : good\n"
     ]
    }
   ],
   "source": [
    "# import these modules\n",
    "import nltk\n",
    "nltk.download('wordnet')\n",
    "from nltk.stem import WordNetLemmatizer\n",
    " \n",
    "lemmatizer = WordNetLemmatizer()\n",
    " \n",
    "print(\"rocks :\", lemmatizer.lemmatize(\"rocks\"))\n",
    "print(\"corpora :\", lemmatizer.lemmatize(\"corpora\"))\n",
    " \n",
    "# a denotes adjective in \"pos\"\n",
    "print(\"better :\", lemmatizer.lemmatize(\"better\", pos=\"a\"))"
   ]
  },
  {
   "cell_type": "code",
   "execution_count": 21,
   "metadata": {},
   "outputs": [
    {
     "name": "stdout",
     "output_type": "stream",
     "text": [
      "['run', 'fly', 'easily', 'fairly']\n",
      "running\n",
      "fly\n",
      "easily\n",
      "fairly\n"
     ]
    }
   ],
   "source": [
    "doc = nlp(\"running flies easily fairly\")\n",
    "print([token.lemma_ for token in doc])\n",
    "\n",
    "print(lemmatizer.lemmatize(\"running\"))\n",
    "print(lemmatizer.lemmatize(\"flies\"))\n",
    "print(lemmatizer.lemmatize(\"easily\"))\n",
    "print(lemmatizer.lemmatize(\"fairly\"))"
   ]
  },
  {
   "cell_type": "code",
   "execution_count": 11,
   "metadata": {},
   "outputs": [
    {
     "name": "stdout",
     "output_type": "stream",
     "text": [
      "Vocabulary: ['fun' 'is' 'language' 'learning' 'love' 'natural' 'nlp' 'processing']\n",
      "BoW Representation:\n",
      " [[1 1 1 0 0 1 0 1]\n",
      " [0 0 0 1 1 0 1 0]]\n"
     ]
    }
   ],
   "source": [
    "#Bag of Words : BoW represents text as a matrix of word occurrences. It discards the order of words and focuses on the occurrence of words in the text.\n",
    "\n",
    "from sklearn.feature_extraction.text import CountVectorizer\n",
    "\n",
    "corpus = [\"Natural Language Processing is fun!\", \"I love learning NLP.\"]\n",
    "vectorizer = CountVectorizer()\n",
    "X = vectorizer.fit_transform(corpus)\n",
    "\n",
    "print(\"Vocabulary:\", vectorizer.get_feature_names_out())\n",
    "print(\"BoW Representation:\\n\", X.toarray())"
   ]
  },
  {
   "cell_type": "code",
   "execution_count": 12,
   "metadata": {},
   "outputs": [
    {
     "name": "stdout",
     "output_type": "stream",
     "text": [
      "['fun' 'is' 'language' 'learning' 'love' 'natural' 'nlp' 'processing']\n",
      "TF-IDF Representation:\n",
      " [[0.4472136  0.4472136  0.4472136  0.         0.         0.4472136\n",
      "  0.         0.4472136 ]\n",
      " [0.         0.         0.         0.57735027 0.57735027 0.\n",
      "  0.57735027 0.        ]]\n"
     ]
    }
   ],
   "source": [
    "#Term Frequency-Inverse Document Frequency (TF-IDF) : TF-IDF is a statistical measure used to evaluate the importance of a word in a document relative to a collection of documents. It is a product of two terms: Term Frequency (TF) and Inverse Document Frequency (IDF).\n",
    "#Word Embeddings : Word embeddings are dense vector representations of words in a high-dimensional space. They capture the semantic meaning of words and their relationships with other words.\n",
    "from sklearn.feature_extraction.text import TfidfVectorizer\n",
    "\n",
    "vectorizer = TfidfVectorizer()\n",
    "X = vectorizer.fit_transform(corpus)\n",
    "print(vectorizer.get_feature_names_out())\n",
    "print(\"TF-IDF Representation:\\n\", X.toarray())"
   ]
  },
  {
   "cell_type": "code",
   "execution_count": 22,
   "metadata": {},
   "outputs": [
    {
     "name": "stdout",
     "output_type": "stream",
     "text": [
      "[-0.00053623  0.00023643  0.00510335  0.00900927 -0.00930295]\n",
      "[('processing', 0.21617142856121063), ('love', 0.09291722625494003), ('natural', 0.07963486760854721)]\n"
     ]
    }
   ],
   "source": [
    "from gensim.models import Word2Vec\n",
    "\n",
    "# Tokenized sentences\n",
    "sentences = [\n",
    "[\"natural\", \"language\", \"processing\", \"fascinating\"],\n",
    "[\"love\", \"working\", \"text\", \"data\"],\n",
    "[\"machine\", \"learning\", \"models\", \"understand\", \"text\"]\n",
    "]\n",
    "# Train Word2Vec model\n",
    "model = Word2Vec(sentences, vector_size=100, window=5, min_count=1, sg=0)\n",
    "\n",
    "# Get vector for a word\n",
    "vector = model.wv['text']\n",
    "print(vector[:5]) # Print first 5 dimensions\n",
    "\n",
    "# Find similar words\n",
    "similar_words = model.wv.most_similar('text', topn=3)\n",
    "print(similar_words)"
   ]
  },
  {
   "cell_type": "code",
   "execution_count": 14,
   "metadata": {},
   "outputs": [
    {
     "name": "stdout",
     "output_type": "stream",
     "text": [
      "Polarity: 0.09393939393939393\n"
     ]
    }
   ],
   "source": [
    "from textblob import TextBlob\n",
    "\n",
    "text = \"The film follows the life of Alabama native Forest Gump, a good man with an ideally low IQ of 75, as historical events occur through his eyes. Jenny Curran was one of Forrest Gump’s few childhood friends and his first and only romantic interest. Throughout the film, Gump regularly experiences adversity but never loses his positive outlook. He may have been physically impaired, but he always retained sight of the big picture. He overcame adversity with his mother’s support and received a football scholarship.\"\n",
    "sentiment = TextBlob(text).sentiment\n",
    "print(\"Polarity:\", sentiment.polarity)"
   ]
  },
  {
   "cell_type": "code",
   "execution_count": 15,
   "metadata": {},
   "outputs": [
    {
     "name": "stdout",
     "output_type": "stream",
     "text": [
      "Barack Obama PERSON\n",
      "Hawaii GPE\n",
      "USA GPE\n"
     ]
    }
   ],
   "source": [
    "import spacy\n",
    "nlp = spacy.load(\"en_core_web_sm\")\n",
    "doc = nlp(\"Barack Obama was born in Hawaii and was the President of the USA.\")\n",
    "for ent in doc.ents:\n",
    "    print(ent.text, ent.label_)"
   ]
  },
  {
   "cell_type": "code",
   "execution_count": 16,
   "metadata": {},
   "outputs": [
    {
     "name": "stdout",
     "output_type": "stream",
     "text": [
      "Prediction: ['spam']\n"
     ]
    }
   ],
   "source": [
    "from sklearn.model_selection import train_test_split\n",
    "from sklearn.naive_bayes import MultinomialNB\n",
    "from sklearn.pipeline import Pipeline\n",
    "from sklearn.feature_extraction.text import CountVectorizer\n",
    "\n",
    "X = [\"Win a free iPhone now!\", \"Meeting at 5 PM\", \"Exclusive offer just for you\"]\n",
    "y = [\"spam\", \"ham\", \"spam\"]\n",
    "\n",
    "X_train, X_test, y_train, y_test = train_test_split(X, y, test_size=0.2)\n",
    "\n",
    "pipeline = Pipeline([('vectorizer', CountVectorizer()),('classifier', MultinomialNB())])\n",
    "\n",
    "pipeline.fit(X_train, y_train)\n",
    "print(\"Prediction:\", pipeline.predict([\"Get your free gift now!\"]))"
   ]
  },
  {
   "cell_type": "code",
   "execution_count": 17,
   "metadata": {},
   "outputs": [
    {
     "name": "stdout",
     "output_type": "stream",
     "text": [
      "JD Vance PERSON\n",
      "Donald Trump PERSON\n",
      "Friday DATE\n",
      "Ukrainian NORP\n",
      "Volodymyr Zelenskyy PERSON\n",
      "Trump ORG\n",
      "Vance PERSON\n",
      "the Oval Office ORG\n",
      "Friday DATE\n",
      "Zelenskyy ORG\n",
      "Ukraine GPE\n",
      "Trump ORG\n",
      "Ukrainian NORP\n",
      "the White House ORG\n",
      "Fox News Digital ORG\n",
      "Trump PERSON\n",
      "Vance PERSON\n",
      "Zelenskyy ORG\n",
      "Friday DATE\n",
      "Zelenskyy ORG\n",
      "Vance PERSON\n",
      "Trump PERSON\n",
      "America GPE\n",
      "First ORDINAL\n"
     ]
    }
   ],
   "source": [
    "newsarticle = \"\"\"Vice President JD Vance defended President Donald Trump and his administration’s foreign policy agenda Friday during a tense exchange with Ukrainian President Volodymyr Zelenskyy — inserting himself into a spotlight rarely seen by vice presidents. \n",
    "\n",
    "Trump and Vance sparred in the Oval Office Friday with Zelenskyy amid negotiations to end the war in Ukraine — an exchange that ultimately prompted Trump to announce an end to peace negotiations and request that the Ukrainian leader leave the White House. \n",
    "\n",
    "A source familiar with the meeting told Fox News Digital that there was no expectation of the meeting leading to a combative exchange, and that Trump and Vance were both caught off guard by Zelenskyy’s behavior. \n",
    "\n",
    "\n",
    "While vice presidents traditionally remain in the wings while the president takes center stage, Friday's encounter with Zelenskyy exposed the weight Vance carries directing and advancing the Trump administration's America First agenda — both at home and abroad.\n",
    "\n",
    "\"\"\"\n",
    "#doc = nlp(\"Barack Obama was born in Hawaii and was the President of the USA.\")\n",
    "doc = nlp(newsarticle)\n",
    "for ent in doc.ents:\n",
    "    print(ent.text, ent.label_)"
   ]
  }
 ],
 "metadata": {
  "kernelspec": {
   "display_name": "Python 3",
   "language": "python",
   "name": "python3"
  },
  "language_info": {
   "codemirror_mode": {
    "name": "ipython",
    "version": 3
   },
   "file_extension": ".py",
   "mimetype": "text/x-python",
   "name": "python",
   "nbconvert_exporter": "python",
   "pygments_lexer": "ipython3",
   "version": "3.11.9"
  }
 },
 "nbformat": 4,
 "nbformat_minor": 2
}
