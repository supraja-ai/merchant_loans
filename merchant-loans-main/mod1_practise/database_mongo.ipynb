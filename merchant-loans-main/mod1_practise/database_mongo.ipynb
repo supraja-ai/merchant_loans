{
 "cells": [
  {
   "cell_type": "markdown",
   "metadata": {},
   "source": [
    "Install Drivers required for Mongo Database"
   ]
  },
  {
   "cell_type": "code",
   "execution_count": null,
   "metadata": {},
   "outputs": [
    {
     "name": "stdout",
     "output_type": "stream",
     "text": [
      "Requirement already satisfied: pymongo in /opt/homebrew/lib/python3.11/site-packages (4.11)\n",
      "Requirement already satisfied: dnspython in /opt/homebrew/lib/python3.11/site-packages (2.7.0)\n",
      "\n",
      "\u001b[1m[\u001b[0m\u001b[34;49mnotice\u001b[0m\u001b[1;39;49m]\u001b[0m\u001b[39;49m A new release of pip is available: \u001b[0m\u001b[31;49m24.3.1\u001b[0m\u001b[39;49m -> \u001b[0m\u001b[32;49m25.0\u001b[0m\n",
      "\u001b[1m[\u001b[0m\u001b[34;49mnotice\u001b[0m\u001b[1;39;49m]\u001b[0m\u001b[39;49m To update, run: \u001b[0m\u001b[32;49mpython3.11 -m pip install --upgrade pip\u001b[0m\n",
      "Note: you may need to restart the kernel to use updated packages.\n",
      "Requirement already satisfied: pymongo[srv] in /opt/homebrew/lib/python3.11/site-packages (4.11)\n",
      "\u001b[33mWARNING: pymongo 4.11 does not provide the extra 'srv'\u001b[0m\u001b[33m\n",
      "\u001b[0mRequirement already satisfied: dnspython<3.0.0,>=1.16.0 in /opt/homebrew/lib/python3.11/site-packages (from pymongo[srv]) (2.7.0)\n",
      "\n",
      "\u001b[1m[\u001b[0m\u001b[34;49mnotice\u001b[0m\u001b[1;39;49m]\u001b[0m\u001b[39;49m A new release of pip is available: \u001b[0m\u001b[31;49m24.3.1\u001b[0m\u001b[39;49m -> \u001b[0m\u001b[32;49m25.0\u001b[0m\n",
      "\u001b[1m[\u001b[0m\u001b[34;49mnotice\u001b[0m\u001b[1;39;49m]\u001b[0m\u001b[39;49m To update, run: \u001b[0m\u001b[32;49mpython3.11 -m pip install --upgrade pip\u001b[0m\n",
      "Note: you may need to restart the kernel to use updated packages.\n"
     ]
    }
   ],
   "source": [
    "%pip install pymongo dnspython\n",
    "%pip install \"pymongo[srv]\"\n",
    "%pip install python-dotenv"
   ]
  },
  {
   "cell_type": "code",
   "execution_count": 40,
   "metadata": {},
   "outputs": [
    {
     "name": "stdout",
     "output_type": "stream",
     "text": [
      "Pinged your deployment. You successfully connected to MongoDB!\n"
     ]
    }
   ],
   "source": [
    "import pymongo\n",
    "from pymongo.mongo_client import MongoClient\n",
    "\n",
    "from pymongo.server_api import ServerApi\n",
    "\n",
    "import os\n",
    "from dotenv import load_dotenv\n",
    "# Load environment variables from .env file\n",
    "load_dotenv()\n",
    "\n",
    "uri = os.getenv(\"MONGO_DB_CONNECTION\")\n",
    "#print(uri)\n",
    "client = MongoClient(uri, server_api=ServerApi('1'))\n",
    "\n",
    "\n",
    "try:\n",
    "    client.admin.command('ping')\n",
    "    print(\"Pinged your deployment. You successfully connected to MongoDB!\")\n",
    "except Exception as e:\n",
    "    print(e)\n",
    "\n",
    "db = client.finbloom\n",
    "\n",
    "members_collection = db[\"members_test\"]\n",
    "transactions_collection = db[\"transactions_test\"]"
   ]
  },
  {
   "cell_type": "code",
   "execution_count": 41,
   "metadata": {},
   "outputs": [
    {
     "name": "stdout",
     "output_type": "stream",
     "text": [
      "67a77926f16d8b4e5932ba0b\n",
      "[ObjectId('67a77926f16d8b4e5932ba0c')]\n"
     ]
    }
   ],
   "source": [
    "member = {\n",
    "            \"fname\":\"gopikrishna\", \"lame\":\"kristshorta\", \"gender\":\"Male\"\n",
    "}\n",
    "result = members_collection.insert_one(member)\n",
    "print(result.inserted_id)\n",
    "\n",
    "transactions = {\n",
    "            \"amount\":\"10\", \"member_id\":f\"{result.inserted_id}\"\n",
    "}\n",
    "\n",
    "transactions_2 = [{\n",
    "            \"amount\":20, \"member_id\": result.inserted_id\n",
    "}]\n",
    "\n",
    "\n",
    "#result = transactions_collection.insert_one(transactions) #1 True\n",
    "\n",
    "#result = transactions_collection.insert_one(transactions_2) #2 Runtime Exception\n",
    "\n",
    "result = transactions_collection.insert_many(transactions_2) #3 True\n",
    "\n",
    "#result = transactions_collection.insert_many(transactions) #4 Runtime Exception\n",
    "\n",
    "print(result.inserted_ids)"
   ]
  },
  {
   "cell_type": "code",
   "execution_count": 42,
   "metadata": {},
   "outputs": [
    {
     "name": "stdout",
     "output_type": "stream",
     "text": [
      "I inserted 3 documents.\n",
      "\n",
      "\n",
      "[ObjectId('67a77936f16d8b4e5932ba0e'), ObjectId('67a77936f16d8b4e5932ba0f'), ObjectId('67a77936f16d8b4e5932ba10')]\n"
     ]
    }
   ],
   "source": [
    "import sys\n",
    "\n",
    "member = {\n",
    "            \"fname\":\"rajdemoshort\", \"lame\":\"kristshorta\", \"gender\":\"Male\"\n",
    "}\n",
    "result = members_collection.insert_one(member)\n",
    "\n",
    "member_documents = [{\n",
    "            \"fname\":\"rajdemo\", \"laname\":\"krista\", \"gender\":\"Male\"\n",
    "}, {\n",
    "            \"first_name\":\"rajdemo2\", \"last_name\":\"krista2\", \"gender\":\"Male\"\n",
    "}, {\n",
    "            \"first_name\":\"rajdemo3\", \"last_name\":\"krista3\", \"gender\":\"Male\"\n",
    "}]\n",
    "\n",
    "try: \n",
    "  result = members_collection.insert_many(member_documents)\n",
    "\n",
    "# return a friendly error if the operation fails\n",
    "except pymongo.errors.OperationFailure:\n",
    "  print(\"An authentication error was received. Are you sure your database user is authorized to perform write operations?\")\n",
    "  sys.exit(1)\n",
    "else:\n",
    "  inserted_count = len(result.inserted_ids)\n",
    "  print(\"I inserted %x documents.\" %(inserted_count))\n",
    "\n",
    "  print(\"\\n\")\n",
    "print(result.inserted_ids)"
   ]
  },
  {
   "cell_type": "code",
   "execution_count": 43,
   "metadata": {},
   "outputs": [
    {
     "name": "stdout",
     "output_type": "stream",
     "text": [
      "Requirement already satisfied: python-dotenv in /opt/homebrew/lib/python3.11/site-packages (1.0.1)\n",
      "\n",
      "\u001b[1m[\u001b[0m\u001b[34;49mnotice\u001b[0m\u001b[1;39;49m]\u001b[0m\u001b[39;49m A new release of pip is available: \u001b[0m\u001b[31;49m24.3.1\u001b[0m\u001b[39;49m -> \u001b[0m\u001b[32;49m25.0\u001b[0m\n",
      "\u001b[1m[\u001b[0m\u001b[34;49mnotice\u001b[0m\u001b[1;39;49m]\u001b[0m\u001b[39;49m To update, run: \u001b[0m\u001b[32;49mpython3.11 -m pip install --upgrade pip\u001b[0m\n",
      "Note: you may need to restart the kernel to use updated packages.\n"
     ]
    }
   ],
   "source": [
    "%pip install python-dotenv"
   ]
  },
  {
   "cell_type": "code",
   "execution_count": 45,
   "metadata": {},
   "outputs": [
    {
     "name": "stdout",
     "output_type": "stream",
     "text": [
      "Pinged your deployment. You successfully connected to MongoDB!\n"
     ]
    }
   ],
   "source": [
    "import pymongo\n",
    "from pymongo.mongo_client import MongoClient\n",
    "\n",
    "from pymongo.server_api import ServerApi\n",
    "\n",
    "import os\n",
    "from dotenv import load_dotenv\n",
    "# Load environment variables from .env file\n",
    "load_dotenv()\n",
    "\n",
    "uri = os.getenv(\"MONGO_DB_CONNECTION\")\n",
    "#print(uri)\n",
    "client = MongoClient(uri, server_api=ServerApi('1'))\n",
    "\n",
    "\n",
    "try:\n",
    "    client.admin.command('ping')\n",
    "    print(\"Pinged your deployment. You successfully connected to MongoDB!\")\n",
    "except Exception as e:\n",
    "    print(e)\n",
    "\n",
    "db = client.finbloom\n",
    "\n",
    "my_collection = db[\"members_test\"]"
   ]
  },
  {
   "cell_type": "code",
   "execution_count": 46,
   "metadata": {},
   "outputs": [
    {
     "name": "stdout",
     "output_type": "stream",
     "text": [
      "67a77943f16d8b4e5932ba13\n"
     ]
    }
   ],
   "source": [
    "member = {\n",
    "            \"fname\":\"rajdemoshort\", \"lame\":\"kristshorta\", \"gender\":\"Male\"\n",
    "}\n",
    "result = my_collection.insert_one(member)\n",
    "print(result.inserted_id)"
   ]
  },
  {
   "cell_type": "code",
   "execution_count": 13,
   "metadata": {},
   "outputs": [
    {
     "name": "stdout",
     "output_type": "stream",
     "text": [
      "{'_id': ObjectId('67a6935b87a58c306f1ad29e'), 'fname': 'rajdemo', 'laname': 'krista', 'gender': 'Male'}\n",
      "\n",
      "\n"
     ]
    }
   ],
   "source": [
    "# We can also find a single document. Let's find a document\n",
    "# that has the string \"rajdemo\" in the first_name list.\n",
    "\n",
    "#my_doc = my_collection.find_one({\"id\": \"67a76e72f16d8b4e5932b9f0\"})\n",
    "my_doc = my_collection.find_one({\"fname\": \"rajdemo\"})\n",
    "\n",
    "if my_doc is not None:\n",
    "  print(my_doc)\n",
    "else:\n",
    "  print(\"No Match.\")\n",
    "print(\"\\n\")"
   ]
  },
  {
   "cell_type": "code",
   "execution_count": 47,
   "metadata": {},
   "outputs": [
    {
     "name": "stdout",
     "output_type": "stream",
     "text": [
      "Here's the updated record:\n",
      "{'_id': ObjectId('67a6dce6fce1a032b0a54caa'), 'fname': 'rajdemo', 'laname': 'krista', 'gender': 'Male', 'city': 'New york'}\n",
      "\n",
      "\n",
      "DeleteResult({'n': 1, 'electionId': ObjectId('7fffffff000000000000053d'), 'opTime': {'ts': Timestamp(1739028807, 31), 't': 1341}, 'ok': 1.0, '$clusterTime': {'clusterTime': Timestamp(1739028807, 31), 'signature': {'hash': b'\\x14\\xfeMa;\\xcf\\xc6I\\xe1U09\\xce*\\x08\\x8a\\x99.*\\xa3', 'keyId': 7419682456267128845}}, 'operationTime': Timestamp(1739028807, 31)}, acknowledged=True)\n"
     ]
    }
   ],
   "source": [
    "#my_doc = my_collection.find_one_and_update({\"fname\": \"rajdemo\"}, {\"$set\": { \"city\": \"Atlanta\" }}, new=True)\n",
    "my_doc = my_collection.find_one_and_update({\"fname\": \"rajdemo\"}, {\"$set\": { \"city\": \"New york\" }}, new=True)\n",
    "#my_collection.find_one\n",
    "if my_doc is not None:\n",
    "  print(\"Here's the updated record:\")\n",
    "  print(my_doc)\n",
    "else:\n",
    "  print(\"I didn't find any record with Rajdemo.\")\n",
    "print(\"\\n\")\n",
    "my_doc = my_collection.delete_one({\"fname\": \"rajdemo\"})\n",
    "print(my_doc)"
   ]
  },
  {
   "cell_type": "code",
   "execution_count": 48,
   "metadata": {},
   "outputs": [
    {
     "name": "stdout",
     "output_type": "stream",
     "text": [
      "I deleted 3 records.\n",
      "\n",
      "\n"
     ]
    }
   ],
   "source": [
    "my_result = my_collection.delete_many({ \"$or\": [{\"first_name\": \"rajdemo\"}, { \"last_name\": \"krista2\" }]})\n",
    "print(\"I deleted %x records.\" %(my_result.deleted_count))\n",
    "print(\"\\n\")"
   ]
  },
  {
   "cell_type": "code",
   "execution_count": null,
   "metadata": {},
   "outputs": [],
   "source": [
    "\n"
   ]
  }
 ],
 "metadata": {
  "kernelspec": {
   "display_name": "Python 3",
   "language": "python",
   "name": "python3"
  },
  "language_info": {
   "codemirror_mode": {
    "name": "ipython",
    "version": 3
   },
   "file_extension": ".py",
   "mimetype": "text/x-python",
   "name": "python",
   "nbconvert_exporter": "python",
   "pygments_lexer": "ipython3",
   "version": "3.11.11"
  }
 },
 "nbformat": 4,
 "nbformat_minor": 2
}
