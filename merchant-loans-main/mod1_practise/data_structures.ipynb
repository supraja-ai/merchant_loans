{
 "cells": [
  {
   "cell_type": "markdown",
   "metadata": {},
   "source": [
    " Lists\n",
    "\n",
    "1.1 Creating and Accessing Lists\n",
    "\n",
    "A list in Python is an ordered collection of items that can hold a variety of object types. Lists are defined using square brackets []. They are highly versatile and can be used to store numbers, strings, or even other lists.\n",
    "\n",
    "Creating Lists"
   ]
  },
  {
   "cell_type": "code",
   "execution_count": 30,
   "metadata": {},
   "outputs": [],
   "source": [
    "# An empty list\n",
    "empty_list = []\n",
    "\n",
    "# A list of integers\n",
    "numbers = [1, 2, 3, 4, 5]\n",
    "\n",
    "# A mixed list\n",
    "mixed = [1, \"Python\", 3.14, True]\n",
    "\n",
    "# A list of lists (nested lists)\n",
    "nested = [[1, 2, 3], [4, 5, 6]]"
   ]
  },
  {
   "cell_type": "markdown",
   "metadata": {},
   "source": [
    "Lists are dynamic, meaning their size can grow or shrink as you add or remove elements.\n",
    "\n",
    "Accessing Elements\n",
    "\n",
    "You can access elements in a list using indexing (starting at 0):"
   ]
  },
  {
   "cell_type": "code",
   "execution_count": 31,
   "metadata": {},
   "outputs": [
    {
     "name": "stdout",
     "output_type": "stream",
     "text": [
      "10\n",
      "50\n"
     ]
    }
   ],
   "source": [
    "numbers = [10, 20, 30, 40, 50]\n",
    "print(numbers[0])  # Output: 10\n",
    "print(numbers[-1]) # Output: 50 (last element)"
   ]
  },
  {
   "cell_type": "markdown",
   "metadata": {},
   "source": [
    "Modifying Elements\n",
    "\n",
    "Lists are mutable, meaning their contents can be changed. This allows for dynamic data management during runtime:"
   ]
  },
  {
   "cell_type": "code",
   "execution_count": 32,
   "metadata": {},
   "outputs": [
    {
     "name": "stdout",
     "output_type": "stream",
     "text": [
      "[10, 25, 30, 40, 50]\n"
     ]
    }
   ],
   "source": [
    "numbers[1] = 25\n",
    "print(numbers)  # Output: [10, 25, 30, 40, 50]"
   ]
  },
  {
   "cell_type": "markdown",
   "metadata": {},
   "source": [
    "List Operations\n",
    "\n",
    "Lists support a variety of operations to help manage data effectively.\n",
    "\n",
    "Appending\n",
    "\n",
    "Add an element to the end of the list:"
   ]
  },
  {
   "cell_type": "code",
   "execution_count": 33,
   "metadata": {},
   "outputs": [
    {
     "name": "stdout",
     "output_type": "stream",
     "text": [
      "[10, 25, 30, 40, 50, 60]\n"
     ]
    }
   ],
   "source": [
    "numbers.append(60)\n",
    "print(numbers)  # Output: [10, 25, 30, 40, 50, 60]"
   ]
  },
  {
   "cell_type": "markdown",
   "metadata": {},
   "source": [
    "Inserting\n",
    "\n",
    "Insert an element at a specific index:"
   ]
  },
  {
   "cell_type": "code",
   "execution_count": 34,
   "metadata": {},
   "outputs": [
    {
     "name": "stdout",
     "output_type": "stream",
     "text": [
      "[10, 25, 35, 30, 40, 50, 60]\n"
     ]
    }
   ],
   "source": [
    "numbers.insert(2, 35)\n",
    "print(numbers)  # Output: [10, 25, 35, 30, 40, 50, 60]"
   ]
  },
  {
   "cell_type": "markdown",
   "metadata": {},
   "source": [
    "Deleting\n",
    "\n",
    "Remove elements using remove(), pop(), or del:"
   ]
  },
  {
   "cell_type": "code",
   "execution_count": 35,
   "metadata": {},
   "outputs": [
    {
     "name": "stdout",
     "output_type": "stream",
     "text": [
      "[10, 25, 35, 40, 50, 60]\n",
      "[10, 35, 40, 50, 60]\n"
     ]
    }
   ],
   "source": [
    "numbers.remove(30)  # Removes the first occurrence of 30\n",
    "print(numbers)      # Output: [10, 25, 35, 40, 50, 60]\n",
    "\n",
    "del numbers[1]      # Removes the second element\n",
    "print(numbers)      # Output: [10, 35, 40, 50, 60]"
   ]
  },
  {
   "cell_type": "markdown",
   "metadata": {},
   "source": [
    "You can also remove elements by slicing or clear the entire list with:"
   ]
  },
  {
   "cell_type": "code",
   "execution_count": 36,
   "metadata": {},
   "outputs": [],
   "source": [
    "numbers.clear()"
   ]
  },
  {
   "cell_type": "markdown",
   "metadata": {},
   "source": [
    "Slicing\n",
    "\n",
    "Retrieve a subset of the list:"
   ]
  },
  {
   "cell_type": "code",
   "execution_count": 37,
   "metadata": {},
   "outputs": [
    {
     "name": "stdout",
     "output_type": "stream",
     "text": [
      "[]\n"
     ]
    }
   ],
   "source": [
    "subset = numbers[1:4]  # Elements from index 1 to 3 (exclusive 4)\n",
    "print(subset)          # Output: [35, 40, 50]"
   ]
  },
  {
   "cell_type": "markdown",
   "metadata": {},
   "source": [
    "List Methods\n",
    "\n",
    "Python lists come with several built-in methods to perform common tasks efficiently.\n",
    "\n",
    "Sorting\n",
    "\n",
    "Sort a list in ascending order:\n",
    "Reversing\n",
    "\n",
    "Reverse the order of elements:\n",
    "\n",
    "count(): Count occurrences of an element.\n",
    "\n",
    "index(): Find the index of the first occurrence.\n",
    "\n",
    "extend(): Extend the list with another list.\n",
    "\n",
    "copy(): Create a shallow copy of the list."
   ]
  },
  {
   "cell_type": "code",
   "execution_count": 38,
   "metadata": {},
   "outputs": [
    {
     "name": "stdout",
     "output_type": "stream",
     "text": [
      "[10, 20, 30, 50, 60]\n",
      "[60, 50, 30, 20, 10]\n"
     ]
    }
   ],
   "source": [
    "numbers = [60, 30, 20, 10, 50]\n",
    "numbers.sort()\n",
    "print(numbers)  # Output: [10, 35, 40, 50, 60]\n",
    "\n",
    "numbers.reverse()\n",
    "print(numbers)  # Output: [60, 50, 40, 35, 10]\n",
    "\n",
    "#print(numbers.count())"
   ]
  },
  {
   "cell_type": "markdown",
   "metadata": {},
   "source": [
    " List Comprehensions\n",
    "\n",
    "List comprehensions provide a concise and elegant way to create lists. They are especially useful for generating lists based on existing data.\n",
    "\n",
    "Syntax: [expression for item in iterable if condition]\n"
   ]
  },
  {
   "cell_type": "code",
   "execution_count": 39,
   "metadata": {},
   "outputs": [
    {
     "name": "stdout",
     "output_type": "stream",
     "text": [
      "[0, 1, 4, 9, 16, 25, 36, 49, 64, 81]\n",
      "[0, 2, 4, 6, 8]\n"
     ]
    }
   ],
   "source": [
    "# Create a list of squares\n",
    "squares = [x**2 for x in range(10)]\n",
    "print(squares)  # Output: [0, 1, 4, 9, 16, 25, 36, 49, 64, 81]\n",
    "\n",
    "# Filter even numbers\n",
    "evens = [x for x in range(10) if x % 2 == 0]\n",
    "print(evens)  # Output: [0, 2, 4, 6, 8]"
   ]
  }
 ],
 "metadata": {
  "kernelspec": {
   "display_name": "Python 3",
   "language": "python",
   "name": "python3"
  },
  "language_info": {
   "codemirror_mode": {
    "name": "ipython",
    "version": 3
   },
   "file_extension": ".py",
   "mimetype": "text/x-python",
   "name": "python",
   "nbconvert_exporter": "python",
   "pygments_lexer": "ipython3",
   "version": "3.9.6"
  }
 },
 "nbformat": 4,
 "nbformat_minor": 2
}
