{
 "cells": [
  {
   "cell_type": "markdown",
   "metadata": {},
   "source": [
    "Python uses a simple syntax to declare variables. There is no need to explicitly specify the type of a variable as Python is dynamically typed."
   ]
  },
  {
   "cell_type": "code",
   "execution_count": 8,
   "metadata": {},
   "outputs": [],
   "source": [
    "x = 10  # Integer variable\n",
    "name = \"Alice\"  # String variable\n",
    "is_active = True  # Boolean variable"
   ]
  },
  {
   "cell_type": "markdown",
   "metadata": {},
   "source": [
    "Variables are case-sensitive, and their names should be descriptive, using underscores for readability. Avoid using reserved keywords."
   ]
  },
  {
   "cell_type": "code",
   "execution_count": 9,
   "metadata": {},
   "outputs": [],
   "source": [
    "total_score = 95\n",
    "user_name = \"Bob\"\n"
   ]
  },
  {
   "cell_type": "markdown",
   "metadata": {},
   "source": [
    "Variable naming conventions:\n",
    "\n",
    "Use lowercase letters and underscores for variable names (snake_case).\n",
    "\n",
    "Avoid starting variable names with numbers.\n",
    "\n",
    "Be consistent with naming conventions."
   ]
  },
  {
   "cell_type": "code",
   "execution_count": 10,
   "metadata": {},
   "outputs": [
    {
     "ename": "SyntaxError",
     "evalue": "invalid syntax (4036596229.py, line 7)",
     "output_type": "error",
     "traceback": [
      "\u001b[0;36m  Cell \u001b[0;32mIn[10], line 7\u001b[0;36m\u001b[0m\n\u001b[0;31m    2nd_place = \"runner-up\"  # Cannot start with a number\u001b[0m\n\u001b[0m     ^\u001b[0m\n\u001b[0;31mSyntaxError\u001b[0m\u001b[0;31m:\u001b[0m invalid syntax\n"
     ]
    }
   ],
   "source": [
    "# Valid variable declarations:\n",
    "max_speed = 120\n",
    "first_name = \"John\"\n",
    "is_authenticated = False\n",
    "\n",
    "# Invalid variable declarations:\n",
    "2nd_place = \"runner-up\"  # Cannot start with a number\n",
    "user-name = \"Alice\"  # Hyphen is not allowed"
   ]
  },
  {
   "cell_type": "markdown",
   "metadata": {},
   "source": [
    "Dynamic Typing: \n",
    "Python’s dynamic typing allows variables to change their type during execution, making it flexible for developers."
   ]
  },
  {
   "cell_type": "code",
   "execution_count": 11,
   "metadata": {},
   "outputs": [
    {
     "name": "stdout",
     "output_type": "stream",
     "text": [
      "<class 'int'>\n",
      "<class 'str'>\n",
      "<class 'list'>\n"
     ]
    }
   ],
   "source": [
    "x = 10\n",
    "print(type(x))  # <class 'int'>\n",
    "x = \"Hello\"\n",
    "print(type(x))  # <class 'str'>\n",
    "x = [1, 2, 3]\n",
    "print(type(x))  # <class 'list'>"
   ]
  },
  {
   "cell_type": "code",
   "execution_count": 12,
   "metadata": {},
   "outputs": [
    {
     "name": "stdout",
     "output_type": "stream",
     "text": [
      "<class 'str'>\n",
      "<class 'int'>\n"
     ]
    }
   ],
   "source": [
    "value = \"100\"  # Initially a string\n",
    "print(type(value))\n",
    "value = int(value)  # Converted to an integer\n",
    "print(type(value))"
   ]
  },
  {
   "cell_type": "markdown",
   "metadata": {},
   "source": [
    "Data Types\n",
    "Strings\n",
    "\n",
    "Strings are used to store textual data. They are immutable, meaning their content cannot be changed after creation.\n",
    "\n",
    "Created using single, double, or triple quotes."
   ]
  },
  {
   "cell_type": "code",
   "execution_count": null,
   "metadata": {},
   "outputs": [],
   "source": [
    "message = 'Hello'\n",
    "name = \"Alice\"\n",
    "long_text = \"\"\"This is a \n",
    "multiline string\"\"\""
   ]
  },
  {
   "cell_type": "code",
   "execution_count": 13,
   "metadata": {},
   "outputs": [
    {
     "name": "stdout",
     "output_type": "stream",
     "text": [
      "HELLO WORLD\n",
      "Hello world\n",
      "hello Python\n",
      "11\n"
     ]
    }
   ],
   "source": [
    "#Common string methods:\n",
    "\n",
    "text = \"hello world\"\n",
    "print(text.upper())  # HELLO WORLD\n",
    "print(text.capitalize())  # Hello world\n",
    "print(text.replace(\"world\", \"Python\"))  # hello Python\n",
    "#len() #string, lists, map, tuple\n",
    "print(len(text))  # 11 (length of string)"
   ]
  },
  {
   "cell_type": "code",
   "execution_count": 14,
   "metadata": {},
   "outputs": [
    {
     "name": "stdout",
     "output_type": "stream",
     "text": [
      "H\n",
      "o\n",
      "ell\n"
     ]
    }
   ],
   "source": [
    "#string support indexing and slicing\n",
    "greeting = \"Hello\"\n",
    "print(greeting[0])  # H (first character)\n",
    "print(greeting[-1])  # o (last character)\n",
    "print(greeting[1:4])  # ell (sliced substring)"
   ]
  },
  {
   "cell_type": "markdown",
   "metadata": {},
   "source": [
    "Integers\n",
    "\n",
    "Integers are whole numbers, both positive and negative."
   ]
  },
  {
   "cell_type": "code",
   "execution_count": 16,
   "metadata": {},
   "outputs": [
    {
     "name": "stdout",
     "output_type": "stream",
     "text": [
      "18\n",
      "10\n",
      "56\n",
      "3\n",
      "2\n"
     ]
    }
   ],
   "source": [
    "age = 25\n",
    "temperature = -5\n",
    "large_number = 10_000_000  # Underscores improve readability\n",
    "\n",
    "#arithmetic with integers\n",
    "a = 14\n",
    "b = 4\n",
    "print(a + b)  # 19\n",
    "print(a - b)  # 11\n",
    "print(a * b)  # 60\n",
    "print(a // b)  # 3 (integer division)\n",
    "print(a % b)  # 3 (remainder)"
   ]
  },
  {
   "cell_type": "markdown",
   "metadata": {},
   "source": [
    "Floats\n",
    "\n",
    "Floats are numbers with decimal points."
   ]
  },
  {
   "cell_type": "code",
   "execution_count": 18,
   "metadata": {},
   "outputs": [
    {
     "name": "stdout",
     "output_type": "stream",
     "text": [
      "The area of the circle is 78.54\n"
     ]
    }
   ],
   "source": [
    "price = 19.99\n",
    "weight = 75.5\n",
    "\n",
    "#float operations\n",
    "pi = 3.14159\n",
    "radius = 5.0\n",
    "area = pi * (radius ** 2)\n",
    "print(f\"The area of the circle is {area:.2f}\")"
   ]
  },
  {
   "cell_type": "markdown",
   "metadata": {},
   "source": [
    "Booleans\n",
    "\n",
    "Represents logical values True and False."
   ]
  },
  {
   "cell_type": "code",
   "execution_count": null,
   "metadata": {},
   "outputs": [],
   "source": [
    "is_logged_in = True\n",
    "has_error = False\n",
    "\n",
    "# used in conditions operations\n",
    "is_ready = True\n",
    "if is_ready:\n",
    "    print(\"Ready to proceed\")\n",
    "else:\n",
    "    print(\"Not ready yet\")"
   ]
  },
  {
   "cell_type": "markdown",
   "metadata": {},
   "source": [
    "NoneType\n",
    "\n",
    "Represents the absence of a value. Commonly used as a placeholder for optional values."
   ]
  },
  {
   "cell_type": "code",
   "execution_count": null,
   "metadata": {},
   "outputs": [],
   "source": [
    "result = None\n",
    "\n",
    "#check if None is assigned?\n",
    "if result is None:\n",
    "    print(\"No value assigned\")"
   ]
  },
  {
   "cell_type": "markdown",
   "metadata": {},
   "source": [
    "Operators and Expressions\n",
    "\n",
    "Arithmetic Operators : Perform mathematical operations."
   ]
  },
  {
   "cell_type": "code",
   "execution_count": 20,
   "metadata": {},
   "outputs": [
    {
     "name": "stdout",
     "output_type": "stream",
     "text": [
      "13\n",
      "7\n",
      "30\n",
      "3.3333333333333335\n",
      "3\n",
      "1\n",
      "1000\n"
     ]
    }
   ],
   "source": [
    "x = 10\n",
    "y = 3\n",
    "print(x + y)  # 13\n",
    "print(x - y)  # 7\n",
    "print(x * y)  # 30\n",
    "print(x / y)  # 3.3333333333333335\n",
    "print(x // y)  # 3 (integer division)\n",
    "print(x % y)  # 1 (modulus)\n",
    "print(x ** y)  # 1000 (exponentiation)"
   ]
  },
  {
   "cell_type": "markdown",
   "metadata": {},
   "source": [
    "Comparison Operators\n",
    "\n",
    "Compare two values and return a boolean result."
   ]
  },
  {
   "cell_type": "code",
   "execution_count": 21,
   "metadata": {},
   "outputs": [
    {
     "name": "stdout",
     "output_type": "stream",
     "text": [
      "False\n",
      "True\n",
      "True\n",
      "False\n"
     ]
    }
   ],
   "source": [
    "print(x == y)  # False\n",
    "print(x != y)  # True\n",
    "print(x > y)   # True\n",
    "print(x <= y)  # False"
   ]
  },
  {
   "cell_type": "markdown",
   "metadata": {},
   "source": [
    "Logical Operators\n",
    "\n",
    "Combine conditional statements."
   ]
  },
  {
   "cell_type": "code",
   "execution_count": 22,
   "metadata": {},
   "outputs": [
    {
     "name": "stdout",
     "output_type": "stream",
     "text": [
      "False\n",
      "True\n",
      "False\n"
     ]
    }
   ],
   "source": [
    "a = True\n",
    "b = False\n",
    "print(a and b)  # False\n",
    "print(a or b)   # True\n",
    "print(not a)    # False"
   ]
  },
  {
   "cell_type": "markdown",
   "metadata": {},
   "source": [
    "Assignment Operators\n",
    "\n",
    "Assign and modify values of variables."
   ]
  },
  {
   "cell_type": "code",
   "execution_count": null,
   "metadata": {},
   "outputs": [],
   "source": [
    "x = 10\n",
    "x += 5  # x = x + 5\n",
    "print(x)  # 15\n",
    "x *= 2  # x = x * 2\n",
    "print(x)  # 30"
   ]
  },
  {
   "cell_type": "markdown",
   "metadata": {},
   "source": [
    "Identity Operators\n",
    "\n",
    "Check if two objects share the same memory location."
   ]
  },
  {
   "cell_type": "code",
   "execution_count": 23,
   "metadata": {},
   "outputs": [
    {
     "name": "stdout",
     "output_type": "stream",
     "text": [
      "False\n",
      "True\n"
     ]
    }
   ],
   "source": [
    "x = [1, 2]\n",
    "y = [1, 2]\n",
    "print(x is y)  # False (different objects in memory)\n",
    "print(x == y)  # True (same content)"
   ]
  },
  {
   "cell_type": "markdown",
   "metadata": {},
   "source": [
    "Membership Operators\n",
    "\n",
    "Check if a value exists within a sequence."
   ]
  },
  {
   "cell_type": "code",
   "execution_count": 24,
   "metadata": {},
   "outputs": [
    {
     "name": "stdout",
     "output_type": "stream",
     "text": [
      "True\n",
      "True\n"
     ]
    }
   ],
   "source": [
    "fruits = [\"apple\", \"banana\"]\n",
    "print(\"apple\" in fruits)  # True\n",
    "print(\"cherry\" not in fruits)  # True"
   ]
  },
  {
   "cell_type": "markdown",
   "metadata": {},
   "source": [
    "Taking User Input and Printing Output\n",
    "\n",
    "Interactive Console-Based Programs"
   ]
  },
  {
   "cell_type": "code",
   "execution_count": null,
   "metadata": {},
   "outputs": [],
   "source": [
    "name = input(\"Enter your name: \")\n",
    "print(\"Hello, \" + name)gopikrishna\n"
   ]
  },
  {
   "cell_type": "code",
   "execution_count": null,
   "metadata": {},
   "outputs": [],
   "source": [
    "#cast input to desired type also\n",
    "\n",
    "age = int(input(\"Enter your age: \"))\n",
    "print(f\"You are {age} years old.\")"
   ]
  },
  {
   "cell_type": "markdown",
   "metadata": {},
   "source": [
    "Formatted Output:\n",
    "Use f-strings for clean and readable formatting.\n",
    "Use .format() method for older versions of Python.\n",
    "Use formatting for numerical precision:"
   ]
  },
  {
   "cell_type": "code",
   "execution_count": 4,
   "metadata": {},
   "outputs": [
    {
     "name": "stdout",
     "output_type": "stream",
     "text": [
      "25\n",
      "I am 25 years old.\n",
      "I am 25 years old.\n",
      "Pi rounded to 2 decimal places: 3.14\n",
      "Pi full value: 3.14159\n"
     ]
    }
   ],
   "source": [
    "age = 25\n",
    "print(age)\n",
    "print(f\"I am {age} years old.\")\n",
    "\n",
    "print(\"I am {} years old.\".format(age))\n",
    "\n",
    "pi = 3.14159\n",
    "print(f\"Pi rounded to 2 decimal places: {pi:.2f}\")\n",
    "print(f\"Pi full value: {pi}\")"
   ]
  },
  {
   "cell_type": "markdown",
   "metadata": {},
   "source": [
    "Comments and Documentation\n",
    "\n",
    "Writing Effective Code Documentation\n",
    "\n",
    "Single-line comments start with #.\n",
    "Multi-line comments use triple quotes, but these are often reserved for docstrings.\n",
    "\n",
    "Using Docstrings\n",
    "\n",
    "Docstrings are used to document functions, classes, and modules. They are written using triple quotes and are accessible via the help() function.\n",
    "Accessing a docstring:"
   ]
  },
  {
   "cell_type": "code",
   "execution_count": null,
   "metadata": {},
   "outputs": [],
   "source": [
    "# This is a comment\n",
    "x = 10  # Variable declaration\n",
    "\n",
    "\"\"\"\n",
    "This is a multi-line comment.\n",
    "It spans multiple lines.\n",
    "\"\"\"\n",
    "\n",
    "def greet(name):\n",
    "    \"\"\"This function greets the user by name.\n",
    "    Args:\n",
    "        name (str): The name of the user.\n",
    "    Returns:\n",
    "        str: A greeting message.\n",
    "    \"\"\"\n",
    "    return f\"Hello, {name}\"\n",
    "\n",
    "print(greet.__doc__)"
   ]
  }
 ],
 "metadata": {
  "kernelspec": {
   "display_name": "Python 3",
   "language": "python",
   "name": "python3"
  },
  "language_info": {
   "codemirror_mode": {
    "name": "ipython",
    "version": 3
   },
   "file_extension": ".py",
   "mimetype": "text/x-python",
   "name": "python",
   "nbconvert_exporter": "python",
   "pygments_lexer": "ipython3",
   "version": "3.9.6"
  }
 },
 "nbformat": 4,
 "nbformat_minor": 2
}
