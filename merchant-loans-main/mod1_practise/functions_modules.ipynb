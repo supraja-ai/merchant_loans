{
 "cells": [
  {
   "cell_type": "markdown",
   "metadata": {},
   "source": [
    "Introduction\n",
    "\n",
    "Functions are fundamental building blocks in Python programming. They allow developers to create reusable and modular code, making programs more organized and easier to maintain. This chapter covers defining functions, their syntax, and their benefits.\n",
    "\n",
    "Syntax of a Function:\n",
    "\n",
    "A function in Python is defined using the def keyword followed by the function name and parentheses containing optional parameters.\n",
    "\n",
    "Benefits of Using Functions:\n",
    "\n",
    "Code reusability\n",
    "\n",
    "Better organization and readability\n",
    "\n",
    "Reduced redundancy\n",
    "\n",
    "Easier debugging and maintenance\n",
    "\n",
    "Enhanced modularity, allowing for easier collaboration"
   ]
  },
  {
   "cell_type": "code",
   "execution_count": 84,
   "metadata": {},
   "outputs": [
    {
     "name": "stdout",
     "output_type": "stream",
     "text": [
      "Hello, Alice!\n",
      "Hello, Alice!\n"
     ]
    }
   ],
   "source": [
    "def greet(name):\n",
    "    \"\"\"Function to greet a user by name.\"\"\"\n",
    "    return f\"Hello, {name}!\"\n",
    "\n",
    "def greet_noreturn(name):\n",
    "    \"\"\"Function to greet a user by name.\"\"\"\n",
    "    print(f\"Hello, {name}!\")\n",
    "\n",
    "print(greet(\"Alice\"))\n",
    "greet_noreturn(\"Alice\")"
   ]
  },
  {
   "cell_type": "markdown",
   "metadata": {},
   "source": [
    "Function Parameters and Return Values\n",
    "\n",
    "Types of Parameters\n",
    "\n",
    "Python provides various types of function parameters:\n",
    "\n",
    "Positional Arguments: Arguments passed based on their position in the function call.\n",
    "\n",
    "Keyword Arguments: Arguments passed using the parameter name.\n",
    "\n",
    "Default Arguments: Parameters with default values."
   ]
  },
  {
   "cell_type": "code",
   "execution_count": 85,
   "metadata": {},
   "outputs": [
    {
     "name": "stdout",
     "output_type": "stream",
     "text": [
      "5\n",
      "15\n",
      "15\n",
      "9\n",
      "243\n"
     ]
    }
   ],
   "source": [
    "def add(a, b):\n",
    "    return a + b\n",
    "\n",
    "print(add(2, 3))\n",
    "\n",
    "#keyword arguements\n",
    "print(add(a=5, b=10))\n",
    "\n",
    "print(add(b=10, a =5))\n",
    "\n",
    "\n",
    "#default arguments\n",
    "\n",
    "def power(base, exponent=2):\n",
    "    return base ** exponent\n",
    "print(power(3))  # Uses default exponent\n",
    "print(power(3, 5))  # Overriding default exponent\n",
    "\n"
   ]
  },
  {
   "cell_type": "markdown",
   "metadata": {},
   "source": [
    "Arbitrary Arguments:\n",
    "\n",
    "*args: Allows passing multiple positional arguments as a tuple.\n",
    "\n",
    "**kwargs: Allows passing multiple keyword arguments as a dictionary."
   ]
  },
  {
   "cell_type": "code",
   "execution_count": 86,
   "metadata": {},
   "outputs": [
    {
     "name": "stdout",
     "output_type": "stream",
     "text": [
      "21\n",
      "name: Alice\n",
      "age: 25\n",
      "city: New York\n"
     ]
    }
   ],
   "source": [
    "def sum_all(*args):\n",
    "    return sum(args)\n",
    "print(sum_all(1, 2, 3, 4, 5, 6))\n",
    "\n",
    "def print_info(**kwargs):\n",
    "    for key, value in kwargs.items():\n",
    "        print(f\"{key}: {value}\")\n",
    "print_info(name=\"Alice\", age=25, city=\"New York\")"
   ]
  },
  {
   "cell_type": "markdown",
   "metadata": {},
   "source": [
    "Scope of Variables (Local vs. Global)\n",
    "\n",
    "Local Scope:\n",
    "\n",
    "Variables declared inside a function are local and accessible only within that function.\n",
    "\n",
    "Global Scope:\n",
    "\n",
    "Variables declared outside functions have a global scope and can be accessed inside functions using the global keyword\n",
    "\n",
    "Enclosing Scope (Nested Functions):\n",
    "\n",
    "A function defined inside another function can access variables from the outer function."
   ]
  },
  {
   "cell_type": "code",
   "execution_count": 60,
   "metadata": {},
   "outputs": [
    {
     "name": "stdout",
     "output_type": "stream",
     "text": [
      "10\n"
     ]
    }
   ],
   "source": [
    "def local_example():\n",
    "    x = 10  # Local variable\n",
    "    print(x)\n",
    "local_example()\n",
    "# print(x)  # Error: x is not defined outside the function"
   ]
  },
  {
   "cell_type": "code",
   "execution_count": 61,
   "metadata": {},
   "outputs": [
    {
     "name": "stdout",
     "output_type": "stream",
     "text": [
      "20\n",
      "25\n",
      "25\n"
     ]
    }
   ],
   "source": [
    "x = 20  # Global variable\n",
    "\n",
    "def global_example():\n",
    "    global x\n",
    "    x += 5\n",
    "    print(x)\n",
    "\n",
    "print(x)\n",
    "global_example()\n",
    "print(x)"
   ]
  },
  {
   "cell_type": "code",
   "execution_count": 62,
   "metadata": {},
   "outputs": [
    {
     "name": "stdout",
     "output_type": "stream",
     "text": [
      "5\n"
     ]
    }
   ],
   "source": [
    "def outer():\n",
    "    a = 5\n",
    "    def inner():\n",
    "        print(a)\n",
    "    inner()\n",
    "outer()"
   ]
  },
  {
   "cell_type": "markdown",
   "metadata": {},
   "source": [
    "Lambda Functions\n",
    "\n",
    "Introduction\n",
    "\n",
    "Lambda functions are small anonymous functions written in a single line using the lambda keyword.\n",
    "\n",
    "lambda arguments: expression"
   ]
  },
  {
   "cell_type": "code",
   "execution_count": 87,
   "metadata": {},
   "outputs": [
    {
     "name": "stdout",
     "output_type": "stream",
     "text": [
      "7\n"
     ]
    }
   ],
   "source": [
    "add = lambda x, y: x + y\n",
    "print(add(3, 4))"
   ]
  },
  {
   "cell_type": "code",
   "execution_count": 88,
   "metadata": {},
   "outputs": [
    {
     "name": "stdout",
     "output_type": "stream",
     "text": [
      "[1, 4, 9, 16]\n"
     ]
    }
   ],
   "source": [
    "#using with map\n",
    "numbers = [1, 2, 3, 4]\n",
    "squared = list(map(lambda x: x**2, numbers))\n",
    "print(squared)"
   ]
  },
  {
   "cell_type": "code",
   "execution_count": 89,
   "metadata": {},
   "outputs": [
    {
     "name": "stdout",
     "output_type": "stream",
     "text": [
      "['apple', 'banana', 'cherry', 'pineapple']\n"
     ]
    }
   ],
   "source": [
    "#using with sorted, key\n",
    "words = [\"banana\", \"apple\", \"pineapple\", \"cherry\"]\n",
    "sorted_words = sorted(words, key=lambda x: len(x))\n",
    "print(sorted_words)"
   ]
  },
  {
   "cell_type": "code",
   "execution_count": 90,
   "metadata": {},
   "outputs": [
    {
     "name": "stdout",
     "output_type": "stream",
     "text": [
      "[2, 4]\n"
     ]
    }
   ],
   "source": [
    "#usign with filter\n",
    "numbers = [1, 2, 3, 4]\n",
    "evens = list(filter(lambda x: x % 2 == 0, numbers))\n",
    "print(evens)"
   ]
  },
  {
   "cell_type": "markdown",
   "metadata": {},
   "source": [
    "Useful Built-in functions\n",
    "map(function, iterable): Applies a function to each element in an iterable.\n",
    "\n",
    "filter(function, iterable): Filters elements based on a function.\n",
    "\n",
    "zip(iterable1, iterable2, ...): Combines multiple iterables.\n",
    "\n",
    "enumerate(iterable): Provides index-value pairs."
   ]
  },
  {
   "cell_type": "code",
   "execution_count": 91,
   "metadata": {},
   "outputs": [
    {
     "name": "stdout",
     "output_type": "stream",
     "text": [
      "[2, 4, 6, 8]\n",
      "[1, 3]\n",
      "[('Alice', 25), ('Bob', 30)]\n",
      "0 1\n",
      "1 2\n",
      "2 3\n",
      "3 4\n"
     ]
    }
   ],
   "source": [
    "# map example\n",
    "numbers = [1, 2, 3, 4]\n",
    "doubled = list(map(lambda x: x * 2, numbers))\n",
    "print(doubled)\n",
    "\n",
    "# filter example\n",
    "odds = list(filter(lambda x: x % 2 != 0, numbers))\n",
    "print(odds)\n",
    "\n",
    "# zip example\n",
    "names = [\"Alice\", \"Bob\"]\n",
    "ages = [25, 30]\n",
    "pairs = list(zip(names, ages))\n",
    "print(pairs)\n",
    "\n",
    "# enumerate example\n",
    "for index, value in enumerate(numbers):\n",
    "    print(index, value)"
   ]
  },
  {
   "cell_type": "markdown",
   "metadata": {},
   "source": [
    "Importing Modules\n",
    "\n",
    "Python modules are files containing Python code (functions, variables, classes). Modules can be built-in, third-party, or user-defined."
   ]
  },
  {
   "cell_type": "code",
   "execution_count": 92,
   "metadata": {},
   "outputs": [
    {
     "name": "stdout",
     "output_type": "stream",
     "text": [
      "4.0\n",
      "3.141592653589793\n",
      "False\n",
      "False\n",
      "['/Library/Developer/CommandLineTools/Library/Frameworks/Python3.framework/Versions/3.9/lib/python39.zip', '/Library/Developer/CommandLineTools/Library/Frameworks/Python3.framework/Versions/3.9/lib/python3.9', '/Library/Developer/CommandLineTools/Library/Frameworks/Python3.framework/Versions/3.9/lib/python3.9/lib-dynload', '', '/Users/gopikrishnapinninti/Library/Python/3.9/lib/python/site-packages', '/Library/Developer/CommandLineTools/Library/Frameworks/Python3.framework/Versions/3.9/lib/python3.9/site-packages']\n"
     ]
    }
   ],
   "source": [
    "import math\n",
    "print(math.sqrt(16))\n",
    "\n",
    "\n",
    "from math import pi\n",
    "print(pi)\n",
    "\n",
    "import os\n",
    "print(os.path.isdir('new_folder'))\n",
    "\n",
    "print(os.path.exists(os.path.join(os.getcwd(), 'new_folder', 'file.txt')))\n",
    "\n",
    "import sys\n",
    "print(sys.path)"
   ]
  },
  {
   "cell_type": "markdown",
   "metadata": {},
   "source": [
    "Creating and Importing a Custom Module\n",
    "\n",
    "Create a Python file users.py:"
   ]
  },
  {
   "cell_type": "code",
   "execution_count": 93,
   "metadata": {},
   "outputs": [
    {
     "name": "stdout",
     "output_type": "stream",
     "text": [
      "Hello, AITraining!\n"
     ]
    }
   ],
   "source": [
    "import users\n",
    "print(users.greet(\"AITraining\"))"
   ]
  },
  {
   "cell_type": "markdown",
   "metadata": {},
   "source": [
    "Installing Third-Party Modules\n",
    "\n",
    "Python provides thousands of modules via pip:"
   ]
  },
  {
   "cell_type": "code",
   "execution_count": 81,
   "metadata": {},
   "outputs": [
    {
     "name": "stdout",
     "output_type": "stream",
     "text": [
      "Defaulting to user installation because normal site-packages is not writeable\n",
      "Requirement already satisfied: requests in /Users/gopikrishnapinninti/Library/Python/3.9/lib/python/site-packages (2.32.3)\n",
      "Requirement already satisfied: certifi>=2017.4.17 in /Users/gopikrishnapinninti/Library/Python/3.9/lib/python/site-packages (from requests) (2025.1.31)\n",
      "Requirement already satisfied: idna<4,>=2.5 in /Users/gopikrishnapinninti/Library/Python/3.9/lib/python/site-packages (from requests) (3.10)\n",
      "Requirement already satisfied: urllib3<3,>=1.21.1 in /Users/gopikrishnapinninti/Library/Python/3.9/lib/python/site-packages (from requests) (2.3.0)\n",
      "Requirement already satisfied: charset-normalizer<4,>=2 in /Users/gopikrishnapinninti/Library/Python/3.9/lib/python/site-packages (from requests) (3.4.1)\n",
      "\u001b[33mWARNING: You are using pip version 21.2.4; however, version 25.0 is available.\n",
      "You should consider upgrading via the '/Library/Developer/CommandLineTools/usr/bin/python3 -m pip install --upgrade pip' command.\u001b[0m\n",
      "Note: you may need to restart the kernel to use updated packages.\n"
     ]
    }
   ],
   "source": [
    "%pip install requests"
   ]
  },
  {
   "cell_type": "code",
   "execution_count": 82,
   "metadata": {},
   "outputs": [
    {
     "name": "stdout",
     "output_type": "stream",
     "text": [
      "<Response [200]>\n"
     ]
    }
   ],
   "source": [
    "import requests\n",
    "response = requests.get(\"https://api.github.com\")\n",
    "print(response)"
   ]
  },
  {
   "cell_type": "markdown",
   "metadata": {},
   "source": []
  }
 ],
 "metadata": {
  "kernelspec": {
   "display_name": "Python 3",
   "language": "python",
   "name": "python3"
  },
  "language_info": {
   "codemirror_mode": {
    "name": "ipython",
    "version": 3
   },
   "file_extension": ".py",
   "mimetype": "text/x-python",
   "name": "python",
   "nbconvert_exporter": "python",
   "pygments_lexer": "ipython3",
   "version": "3.9.6"
  }
 },
 "nbformat": 4,
 "nbformat_minor": 2
}
