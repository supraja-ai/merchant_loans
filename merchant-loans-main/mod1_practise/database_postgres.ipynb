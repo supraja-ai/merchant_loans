{
 "cells": [
  {
   "cell_type": "markdown",
   "metadata": {},
   "source": [
    "Importing Modules\n",
    "\n",
    "Python modules are files containing Python code (functions, variables, classes). Modules can be built-in, third-party, or user-defined."
   ]
  },
  {
   "cell_type": "code",
   "execution_count": null,
   "metadata": {},
   "outputs": [],
   "source": [
    "import math\n",
    "print(math.sqrt(16))\n",
    "\n",
    "\n",
    "from math import pi\n",
    "print(pi)\n",
    "\n",
    "import os\n",
    "print(os.path.isdir('new_folder'))\n",
    "\n",
    "print(os.path.exists(os.path.join(os.getcwd(), 'new_folder', 'file.txt')))\n",
    "\n",
    "import sys\n",
    "print(sys.path)"
   ]
  },
  {
   "cell_type": "markdown",
   "metadata": {},
   "source": [
    "Creating and Importing a Custom Module\n",
    "\n",
    "Create a Python file users.py:"
   ]
  },
  {
   "cell_type": "code",
   "execution_count": 12,
   "metadata": {},
   "outputs": [
    {
     "name": "stdout",
     "output_type": "stream",
     "text": [
      "Hello, AITraining!\n"
     ]
    }
   ],
   "source": [
    "import members\n",
    "print(members.greet(\"AITraining\"))"
   ]
  },
  {
   "cell_type": "markdown",
   "metadata": {},
   "source": [
    "Installing Third-Party Modules\n",
    "\n",
    "Python provides thousands of modules via pip:"
   ]
  },
  {
   "cell_type": "code",
   "execution_count": 6,
   "metadata": {},
   "outputs": [
    {
     "name": "stdout",
     "output_type": "stream",
     "text": [
      "Requirement already satisfied: psycopg2-binary in /opt/homebrew/lib/python3.11/site-packages (2.9.10)\n",
      "\n",
      "\u001b[1m[\u001b[0m\u001b[34;49mnotice\u001b[0m\u001b[1;39;49m]\u001b[0m\u001b[39;49m A new release of pip is available: \u001b[0m\u001b[31;49m24.3.1\u001b[0m\u001b[39;49m -> \u001b[0m\u001b[32;49m25.0\u001b[0m\n",
      "\u001b[1m[\u001b[0m\u001b[34;49mnotice\u001b[0m\u001b[1;39;49m]\u001b[0m\u001b[39;49m To update, run: \u001b[0m\u001b[32;49mpython3.11 -m pip install --upgrade pip\u001b[0m\n",
      "Note: you may need to restart the kernel to use updated packages.\n",
      "Requirement already satisfied: sqlalchemy in /opt/homebrew/lib/python3.11/site-packages (2.0.37)\n",
      "Requirement already satisfied: typing-extensions>=4.6.0 in /Users/gopikrishnapinninti/Library/Python/3.11/lib/python/site-packages (from sqlalchemy) (4.12.2)\n",
      "\n",
      "\u001b[1m[\u001b[0m\u001b[34;49mnotice\u001b[0m\u001b[1;39;49m]\u001b[0m\u001b[39;49m A new release of pip is available: \u001b[0m\u001b[31;49m24.3.1\u001b[0m\u001b[39;49m -> \u001b[0m\u001b[32;49m25.0\u001b[0m\n",
      "\u001b[1m[\u001b[0m\u001b[34;49mnotice\u001b[0m\u001b[1;39;49m]\u001b[0m\u001b[39;49m To update, run: \u001b[0m\u001b[32;49mpython3.11 -m pip install --upgrade pip\u001b[0m\n",
      "Note: you may need to restart the kernel to use updated packages.\n"
     ]
    }
   ],
   "source": [
    "%pip install psycopg2-binary\n",
    "#%pip install psycopg2\n",
    "%pip install sqlalchemy\n",
    "#%pip install mysql_connector_python\n",
    "#%pip install mysqlclient"
   ]
  },
  {
   "cell_type": "markdown",
   "metadata": {},
   "source": [
    "Establishing a Database Connection\n",
    "\n",
    "To connect Python to PostgreSQL, use the connect() method from the psycopg2 library:"
   ]
  },
  {
   "cell_type": "code",
   "execution_count": 2,
   "metadata": {},
   "outputs": [
    {
     "name": "stdout",
     "output_type": "stream",
     "text": [
      "Database connection successful!\n",
      "PostgreSQL version: ('PostgreSQL 15.10 on x86_64-pc-linux-gnu, compiled by gcc (Debian 10.2.1-6) 10.2.1 20210110, 64-bit',)\n",
      "Database connection closed.\n"
     ]
    }
   ],
   "source": [
    "import psycopg2\n",
    "\n",
    "# Database connection details\n",
    "DB_NAME = \"<DBNAME>\"\n",
    "DB_USER = \"<DBUSER>\"\n",
    "DB_PASSWORD = \"<PASSWORD>\"\n",
    "DB_HOST = \"<SERVER>\"  # Change if using a remote server #localhost\n",
    "DB_PORT = \"5432\"       # Default PostgreSQL port\n",
    "# Establishing the connection\n",
    "try:\n",
    "    connection = psycopg2.connect(\n",
    "        dbname=DB_NAME,\n",
    "        user=DB_USER,\n",
    "        password=DB_PASSWORD,\n",
    "        host=DB_HOST,\n",
    "        port=DB_PORT\n",
    "    )\n",
    "    print(\"Database connection successful!\")\n",
    "except Exception as e:\n",
    "    print(\"Error connecting to the database:\", e)\n",
    "\n",
    "#2.3 Creating a Cursor Object and Executing Queries\n",
    "#Once connected, a cursor object is used to execute SQL queries:\n",
    "\n",
    "cursor = connection.cursor()\n",
    "cursor.execute(\"SELECT version();\")\n",
    "print(\"PostgreSQL version:\", cursor.fetchone())\n",
    "\n",
    "#2.4 Closing the Connection\n",
    "#After performing database operations, always close the connection:\n",
    "cursor.close()\n",
    "connection.close()\n",
    "print(\"Database connection closed.\")"
   ]
  },
  {
   "cell_type": "markdown",
   "metadata": {},
   "source": []
  },
  {
   "cell_type": "code",
   "execution_count": 3,
   "metadata": {},
   "outputs": [
    {
     "name": "stdout",
     "output_type": "stream",
     "text": [
      "Database connection successful!\n",
      "Table created successfully!\n",
      "Table created successfully!\n",
      "Table created successfully!\n"
     ]
    }
   ],
   "source": [
    "from manage_tables import create_table\n",
    "\n",
    "from members import create_member, retrieve_members, update_member, delete_member\n",
    "try:\n",
    "    connection = psycopg2.connect(\n",
    "        dbname=DB_NAME,\n",
    "        user=DB_USER,\n",
    "        password=DB_PASSWORD,\n",
    "        host=DB_HOST,\n",
    "        port=DB_PORT\n",
    "    )\n",
    "    print(\"Database connection successful!\")\n",
    "except Exception as e:\n",
    "    print(\"Error connecting to the database:\", e)\n",
    "\n",
    "create_table(connection = connection, table_name=\"members\")\n",
    "\n",
    "create_table( table_name=\"members\", connection = connection)\n",
    "\n",
    "create_table(connection, \"accounts\")\n",
    "\n",
    "#create_table(\"accounts\", connection) # valid or invalid? #run is not successful"
   ]
  },
  {
   "cell_type": "code",
   "execution_count": 11,
   "metadata": {},
   "outputs": [
    {
     "name": "stdout",
     "output_type": "stream",
     "text": [
      "Record inserted successfully!\n"
     ]
    }
   ],
   "source": [
    "first_name = input(\"Enter first name of the member\")\n",
    "last_name = input(\"Enter last name of the member\")\n",
    "gender = input(\"ENter gender of the member\")\n",
    "\n",
    "create_member(connection, first_name, last_name, gender)"
   ]
  },
  {
   "cell_type": "code",
   "execution_count": 11,
   "metadata": {},
   "outputs": [
    {
     "name": "stdout",
     "output_type": "stream",
     "text": [
      "(4, 'kumar', 'new', None, 'male')\n",
      "(5, 'demofirst', 'demolast', None, 'na')\n"
     ]
    }
   ],
   "source": [
    "retrieve_members(connection)\n",
    "#retrieve_members(connection, 1)\n",
    "\n",
    "#retrieve_members(member_id=\"5\", connection=connection)\n",
    "\n",
    "#retrieve_members(member_id=5, connection=connection)\n",
    "\n",
    "#retrieve_members(member_id=1, connection=connection)"
   ]
  },
  {
   "cell_type": "code",
   "execution_count": 9,
   "metadata": {},
   "outputs": [
    {
     "name": "stdout",
     "output_type": "stream",
     "text": [
      "Record updated successfully!\n",
      "updated data\n",
      "(1, 'Raj', 'updatedjackson', None, '{gender}')\n"
     ]
    }
   ],
   "source": [
    "update_member(connection, 1, \"Raj\", \"updatedjackson\")"
   ]
  },
  {
   "cell_type": "code",
   "execution_count": 10,
   "metadata": {},
   "outputs": [
    {
     "name": "stdout",
     "output_type": "stream",
     "text": [
      "Record deleted successfully!\n"
     ]
    }
   ],
   "source": [
    "delete_member(connection, 1)"
   ]
  }
 ],
 "metadata": {
  "kernelspec": {
   "display_name": "Python 3",
   "language": "python",
   "name": "python3"
  },
  "language_info": {
   "codemirror_mode": {
    "name": "ipython",
    "version": 3
   },
   "file_extension": ".py",
   "mimetype": "text/x-python",
   "name": "python",
   "nbconvert_exporter": "python",
   "pygments_lexer": "ipython3",
   "version": "3.11.11"
  }
 },
 "nbformat": 4,
 "nbformat_minor": 2
}
