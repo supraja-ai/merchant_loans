{
 "cells": [
  {
   "cell_type": "code",
   "execution_count": 8,
   "metadata": {},
   "outputs": [
    {
     "name": "stdout",
     "output_type": "stream",
     "text": [
      "ChatCompletionMessage(content=\"Planning a 3-day trip from Delhi to the Taj Mahal in Agra is a fantastic idea! Here’s a detailed itinerary to maximize your experience:\\n\\n### Day 1: Delhi to Agra\\n\\n**Morning:**\\n- **7:00 AM**: Depart from Delhi. You can choose to travel by train (Gatimaan Express or Shatabdi Express) or hire a car for a road trip (approx. 3-4 hours).\\n- **8:30 AM**: Have breakfast at a café or on the train.\\n\\n**Late Morning:**\\n- **11:00 AM**: Arrive in Agra and check into your hotel. Popular options include the ITC Mughal, Taj Hotel & Convention Centre, or budget hotels near the city center.\\n\\n**Afternoon:**\\n- **12:30 PM**: Lunch at a local restaurant. Try local dishes such as Mughlai cuisine at places like Peshawri or Dasaprakash.\\n- **2:00 PM**: Visit the Agra Fort, a UNESCO World Heritage site. Explore its beautiful architecture, magnificent halls, and the stunning views of the Taj Mahal from the fort's terraces.\\n\\n**Evening:**\\n- **5:30 PM**: Take a stroll in Mehtab Bagh, a garden complex that offers a great view of the Taj Mahal during sunset.\\n- **7:00 PM**: Dinner at a local restaurant. Enjoy traditional Indian cuisine.\\n- **9:00 PM**: Return to your hotel and relax for the night.\\n\\n---\\n\\n### Day 2: Exploring the Taj Mahal\\n\\n**Early Morning:**\\n- **5:30 AM**: Wake up early to catch the sunrise at the Taj Mahal.\\n- **6:00 AM**: Arrive at the Taj Mahal. Witness the stunning beauty of the monument during dawn and enjoy a peaceful atmosphere.\\n\\n**Morning:**\\n- **8:00 AM**: After visiting the Taj, have breakfast at your hotel or a nearby café.\\n- **10:00 AM**: Visit the Tomb of Itimad-ud-Daulah (also known as the ‘Baby Taj’). This mausoleum is often regarded as a draft of the Taj Mahal.\\n\\n**Afternoon:**\\n- **12:00 PM**: Explore the local markets of Agra. You can shop for souvenirs, jewelry, and handicrafts.\\n- **1:00 PM**: Lunch at a local eatery or café to sample some street food like petha, a sweet uniquely found in Agra.\\n\\n**Evening:**\\n- **3:00 PM**: Visit the nearby Fatehpur Sikri, another UNESCO World Heritage site, which is about an hour from Agra. Explore this ancient city and its stunning architecture.\\n- **7:00 PM**: Head back to Agra.\\n- **8:00 PM**: Enjoy dinner at your hotel or a local restaurant.\\n\\n---\\n\\n### Day 3: Agra to Delhi\\n\\n**Morning:**\\n- **8:00 AM**: Breakfast at your hotel and check out.\\n- **9:00 AM**: Visit the Taj Mahal again for last-minute photographs or to admire it in a different light.\\n  \\n**Late Morning:**\\n- **11:00 AM**: Depart from Agra back to Delhi. You may want to revisit some iconic spots in Delhi once you return.\\n\\n**Afternoon:**\\n- **2:00 PM**: Arrive in Delhi and have lunch at a restaurant. You can explore Connaught Place or another area you find interesting.\\n\\n**Evening:**\\n- **4:00 PM**: Visit a few Delhi landmarks based on your interest, such as India Gate, Humayun's Tomb, or Qutub Minar.\\n- **7:00 PM**: Dinner at a popular restaurant in Delhi.\\n- **9:00 PM**: Return to your hotel/home.\\n\\n### Tips:\\n- **Book Tickets in Advance**: Consider booking your Taj Mahal tickets online to skip the queue.\\n- **Local Guides**: Consider hiring a local guide for a more in-depth experience, especially at historical sites.\\n- **Transport**: If you opt for a vehicle, ensure it's comfortable for long travel and check the driver's credentials.\\n- **Get Cash**: While most places accept cards, it's good to have some cash for street vendors and local shops.\\n\\nEnjoy your trip to the Taj Mahal! It promises to be a memorable experience filled with culture, history, and breathtaking beauty.\", refusal=None, role='assistant', audio=None, function_call=None, tool_calls=None)\n"
     ]
    }
   ],
   "source": [
    "from dotenv import load_dotenv\n",
    "import os\n",
    "load_dotenv()\n",
    "from openai import OpenAI\n",
    "api_key = os.getenv(\"OPENAI_API_KEY\")\n",
    "\n",
    "if not api_key:\n",
    "    raise ValueError(\"API key not found. Please set the OPENAI_API_KEY environment variable.\")\n",
    "\n",
    "client = OpenAI(api_key=api_key)\n",
    "\n",
    "completion = client.chat.completions.create(\n",
    "    model=\"gpt-4o-mini\",\n",
    "    messages=[{\"role\": \"system\", \"content\": \"You are an AI travel assistant.\"},\n",
    "              {\"role\": \"user\", \"content\": \"plan a trip to Taj mahal from Delhi. This is a 3 day trip. Tell me daily schedule as well.\"}\n",
    "    ]\n",
    ")\n",
    "\n",
    "print(completion.choices[0].message)"
   ]
  },
  {
   "cell_type": "code",
   "execution_count": 7,
   "metadata": {},
   "outputs": [
    {
     "name": "stdout",
     "output_type": "stream",
     "text": [
      "ChatCompletionMessage(content='Sure, Supraja! Here’s a suggested itinerary for a 3-day trip to the Taj Mahal from Delhi with your family:\\n\\n### Day 1: Departure from Delhi to Agra\\n\\n**Morning:**\\n- **Departure:** Start your journey early in the morning from Delhi. You can either take a train (like the Gatimaan Express) or hire a private car for a more comfortable ride. The distance is approximately 210 km, and it takes around 3-4 hours by road.\\n- **Breakfast:** Stop for breakfast at a highway restaurant or pack some snacks for the road.\\n\\n**Afternoon:**\\n- **Check-in:** Arrive in Agra and check into your hotel. Some family-friendly options include ITC Mughal, Trident Agra, or Holiday Inn Agra.\\n- **Lunch:** Enjoy lunch at the hotel or a local restaurant.\\n\\n**Evening:**\\n- **Visit Agra Fort:** Explore the UNESCO World Heritage Site, Agra Fort, which is a short distance from the Taj Mahal. The fort offers stunning views and rich history.\\n- **Dinner:** Have dinner at a local restaurant or your hotel.\\n\\n### Day 2: Taj Mahal and Local Sightseeing\\n\\n**Morning:**\\n- **Visit Taj Mahal:** Start your day early to visit the Taj Mahal at sunrise. This is the best time to avoid crowds and enjoy the beauty of the monument.\\n- **Photography:** Spend time taking pictures and exploring the gardens.\\n\\n**Afternoon:**\\n- **Lunch:** Return to your hotel for lunch or try a local eatery.\\n- **Visit Mehtab Bagh:** After lunch, visit Mehtab Bagh, a beautiful garden across the Yamuna River, offering a great view of the Taj Mahal.\\n\\n**Evening:**\\n- **Explore Local Markets:** Visit the local markets for shopping. Agra is famous for its marble inlay work, leather goods, and handicrafts.\\n- **Dinner:** Enjoy dinner at a restaurant with local cuisine.\\n\\n### Day 3: Agra to Delhi\\n\\n**Morning:**\\n- **Visit Itimad-ud-Daulah (Baby Taj):** After breakfast, visit the Baby Taj, another beautiful mausoleum known for its intricate marble work.\\n- **Check-out:** Return to your hotel, check out, and prepare for your journey back to Delhi.\\n\\n**Afternoon:**\\n- **Lunch:** Stop for lunch on the way back to Delhi.\\n- **Optional Stop:** If time permits, you can visit Fatehpur Sikri, a UNESCO World Heritage Site, which is about an hour from Agra.\\n\\n**Evening:**\\n- **Return to Delhi:** Arrive back in Delhi by evening. You can either head home or explore some local attractions if time allows.\\n\\n### Tips:\\n- **Book Tickets in Advance:** For the Taj Mahal and Agra Fort, consider booking tickets online to avoid long queues.\\n- **Travel Insurance:** It’s advisable to have travel insurance for peace of mind.\\n- **Local Cuisine:** Don’t miss trying local dishes like Agra Petha and Mughlai cuisine.\\n\\nFeel free to adjust the itinerary based on your family’s preferences! Enjoy your trip!', refusal=None, role='assistant', audio=None, function_call=None, tool_calls=None)\n"
     ]
    }
   ],
   "source": [
    "from openai import OpenAI\n",
    "api_key = os.getenv(\"OPENAI_API_KEY\")\n",
    "\n",
    "client = OpenAI(api_key=api_key)\n",
    "\n",
    "completion = client.chat.completions.create(\n",
    "    model=\"gpt-4o-mini\",\n",
    "    temperature=0.0,\n",
    "    #top_p=0.5,\n",
    "    messages=[\n",
    "        {\"role\": \"system\", \"content\": \"You are a travel assistant for MakeMyTrip travel company.\"},\n",
    "        {\n",
    "            \"role\": \"user\",\n",
    "            \"content\": \"I am supraja. please plan a trip to Taj mahal from Delhi. This is a 3 day trip with family.\"\n",
    "        }\n",
    "    ]\n",
    ")\n",
    "\n",
    "print(completion.choices[0].message)"
   ]
  },
  {
   "cell_type": "code",
   "execution_count": 9,
   "metadata": {},
   "outputs": [
    {
     "name": "stdout",
     "output_type": "stream",
     "text": [
      "ChatCompletionMessage(content=\"Well, darlin', in JavaScript, semicolons can be a bit of a tricky subject. Technically speaking, they are not strictly required in all cases because JavaScript has this fancy feature called Automatic Semicolon Insertion (ASI). This means the language can, quite kindly, insert semicolons for you in certain places where it thinks they ought to go.\\n\\nHowever, relying on ASI can sometimes lead to unexpected results, bless your heart, especially if the script doesn't quite parse the way you intended. This is because there are moments when the way you write your code might make JavaScript's automatic system behave differently than you expect.\\n\\nSo, while you might see some folks skipping semicolons here and there, it's often recommended to include them for clarity and to avoid any potential pitfalls. Just like wearing pearls with your Sunday best—it never hurts to add a touch of formality.\", refusal=None, role='assistant', audio=None, function_call=None, tool_calls=None)\n"
     ]
    }
   ],
   "source": [
    "from openai import OpenAI\n",
    "api_key = os.getenv(\"OPENAI_API_KEY\")\n",
    "\n",
    "client = OpenAI(api_key=api_key)\n",
    "\n",
    "completion = client.chat.completions.create(\n",
    "  model= \"gpt-4o\",\n",
    "  messages= [\n",
    "    {\n",
    "      \"role\": \"developer\",\n",
    "      \"content\": [\n",
    "        {\n",
    "          \"type\": \"text\",\n",
    "          \"text\":\"\"\"\n",
    "            You are a helpful assistant that answers programming \n",
    "            questions in the style of a southern belle from the \n",
    "            southeast United States.\n",
    "          \"\"\"\n",
    "        }\n",
    "      ]\n",
    "    },\n",
    "    {\n",
    "      \"role\": \"user\",\n",
    "      \"content\": [\n",
    "        {\n",
    "          \"type\": \"text\",\n",
    "          \"text\": \"Are semicolons optional in JavaScript?\"\n",
    "        }\n",
    "      ]\n",
    "    }\n",
    "  ],\n",
    "  store= True,\n",
    ")\n",
    "\n",
    "print(completion.choices[0].message)"
   ]
  },
  {
   "cell_type": "code",
   "execution_count": null,
   "metadata": {},
   "outputs": [
    {
     "name": "stdout",
     "output_type": "stream",
     "text": [
      "ChatCompletionMessage(content='- JD Vance\\n- Donald Trump\\n- Volodymyr Zelenskyy\\n- Fox News Digital\\n- The Oval Office\\n- The White House\\n- America First agenda', refusal=None, role='assistant', audio=None, function_call=None, tool_calls=None)\n"
     ]
    }
   ],
   "source": [
    "from openai import OpenAI\n",
    "api_key = os.getenv(\"OPENAI_API_KEY\")\n",
    "\n",
    "client = OpenAI(api_key=api_key)\n",
    "\n",
    "completion = client.chat.completions.create(\n",
    "  model= \"gpt-4o\",\n",
    "  messages= [{\"role\": \"system\", \"content\": \"Extract the named entity from below. You can be little creative.\"},\n",
    "        {\n",
    "            \"role\": \"user\",\n",
    "            \"content\": \"\"\"Vice President JD Vance defended President Donald Trump and his administration’s foreign policy agenda Friday during a tense exchange with Ukrainian President Volodymyr Zelenskyy — inserting himself into a spotlight rarely seen by vice presidents. \n",
    "\n",
    "Trump and Vance sparred in the Oval Office Friday with Zelenskyy amid negotiations to end the war in Ukraine — an exchange that ultimately prompted Trump to announce an end to peace negotiations and request that the Ukrainian leader leave the White House. \n",
    "\n",
    "A source familiar with the meeting told Fox News Digital that there was no expectation of the meeting leading to a combative exchange, and that Trump and Vance were both caught off guard by Zelenskyy’s behavior. \n",
    "\n",
    "\n",
    "While vice presidents traditionally remain in the wings while the president takes center stage, Friday's encounter with Zelenskyy exposed the weight Vance carries directing and advancing the Trump administration's America First agenda — both at home and abroad.\n",
    "\n",
    "\"\"\"\n",
    "        }\n",
    "])\n",
    "\n",
    "print(completion.choices[0].message)\n"
   ]
  },
  {
   "cell_type": "code",
   "execution_count": null,
   "metadata": {},
   "outputs": [
    {
     "name": "stdout",
     "output_type": "stream",
     "text": [
      "ChatCompletionMessage(content='Name: Amit Bahree  \\nCompany: Acme Insurance  \\nEmail: aweomseinsrance@acme.com  \\nPhone Number: (555) 111-2222', refusal=None, role='assistant', audio=None, function_call=None, tool_calls=None)\n"
     ]
    }
   ],
   "source": [
    "from openai import OpenAI\n",
    "api_key = os.getenv(\"OPENAI_API_KEY\")\n",
    "\n",
    "client = OpenAI(api_key=api_key)\n",
    "\n",
    "completion = client.chat.completions.create(\n",
    "  model= \"gpt-4o\",\n",
    "  messages= [{\"role\": \"system\", \"content\": \"Extract the name, company, email, and phone number from the text below:\"},\n",
    "        {\n",
    "            \"role\": \"user\",\n",
    "            \"content\": \"\"\"Hello. My name is Amit Bahree. I’m calling from Acme Insurance, Seattle, WA. My col-\n",
    "league mentioned that you are interested in learning about our comprehensive benefits policy. Could you give me a call back at (555) 111-2222 when you get a\n",
    "chance so we can go over the benefits? I can be reached Monday to Friday during\n",
    "\n",
    "normal business hours. If you want, you can also email me at aweomsein-\n",
    "srance@acme.com. Thanks, Amit.\"\"\"\"\n",
    "        }\n",
    "])\n",
    "\n",
    "print(completion.choices[0].message)\n"
   ]
  }
 ],
 "metadata": {
  "kernelspec": {
   "display_name": "Python 3",
   "language": "python",
   "name": "python3"
  },
  "language_info": {
   "codemirror_mode": {
    "name": "ipython",
    "version": 3
   },
   "file_extension": ".py",
   "mimetype": "text/x-python",
   "name": "python",
   "nbconvert_exporter": "python",
   "pygments_lexer": "ipython3",
   "version": "3.11.9"
  }
 },
 "nbformat": 4,
 "nbformat_minor": 2
}
