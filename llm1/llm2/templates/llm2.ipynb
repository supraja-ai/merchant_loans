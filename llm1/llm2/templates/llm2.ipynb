{
 "cells": [
  {
   "cell_type": "code",
   "execution_count": 6,
   "metadata": {},
   "outputs": [
    {
     "name": "stdout",
     "output_type": "stream",
     "text": [
      "ChatCompletionMessage(content='Planning a 3-day trip to the Taj Mahal from Delhi is an exciting adventure! Here’s a suggested itinerary:\\n\\n### Day 1: Travel from Delhi to Agra\\n\\n**Morning:**\\n- **07:00 AM:** Depart from Delhi. You can either take a train (like the Gatimaan Express, around 8:10 AM departure) or drive. The train journey takes about 2 hours, while driving takes around 3-4 hours.\\n- **09:00 AM (if taking the train):** Arrive at Agra Cantonment Station. If driving, aim to reach Agra by around 10:00 AM.\\n\\n**Mid-Morning:**\\n- **09:30 AM:** Check in to your hotel in Agra. Recommended hotels include ITC Mughal, The Oberoi Amarvilas for luxury, or budget options like Hotel Taj Plaza.\\n\\n**Late Morning:**\\n- **11:00 AM:** Visit the **Taj Mahal**. Spend time exploring this iconic monument and its stunning gardens.\\n\\n**Afternoon:**\\n- **01:00 PM:** Lunch at a local restaurant. Recommended places include Pinch of Spice or Sky Grill.\\n\\n**Evening:**\\n- **02:30 PM:** Visit the **Agra Fort** to explore its impressive architecture and history. \\n\\n**Night:**\\n- **05:00 PM:** Return to your hotel to relax.\\n- **07:30 PM:** Dinner at your hotel or a nearby restaurant.\\n  \\n### Day 2: Agra to Jaipur\\n\\n**Morning:**\\n- **07:00 AM:** Breakfast at the hotel.\\n- **08:00 AM:** Depart for Jaipur by road. The drive takes about 4-5 hours.\\n  \\n**Mid-Morning:**\\n- **11:00 AM:** Stop at **Fatehpur Sikri**, an UNESCO World Heritage Site, to explore the ancient Mughal city. \\n\\n**Afternoon:**\\n- **01:00 PM:** Continue your journey to Jaipur and have lunch en route or upon arrival.\\n- **03:00 PM:** Check in to your hotel in Jaipur. Options include the Rambagh Palace for luxury or hotels like Arya Niwas for budget-friendly options.\\n\\n**Evening:**\\n- **04:00 PM:** Visit the **City Palace** and observe its beautiful blend of Rajasthani and Mughal architecture.\\n  \\n**Night:**\\n- **07:00 PM:** Dinner at Chokhi Dhani, a traditional Rajasthani village-themed resort, for a cultural experience.\\n  \\n### Day 3: Explore Jaipur and Return to Delhi\\n\\n**Morning:**\\n- **07:30 AM:** Breakfast at your hotel.\\n- **08:30 AM:** Visit the **Hawa Mahal** (Palace of Winds) and then explore **Jantar Mantar**, the astronomical observatory.\\n\\n**Mid-Morning:**\\n- **10:30 AM:** Head to **Amber Fort**. You can ride an elephant or take a jeep up to the fort for stunning views.\\n\\n**Afternoon:**\\n- **01:30 PM:** Lunch at a local restaurant in Jaipur.\\n\\n**Evening:**\\n- **03:00 PM:** Depart from Jaipur back to Delhi. The drive should take around 5-6 hours.\\n\\n**Late Evening:**\\n- **08:00 PM:** Arrive in Delhi. Enjoy dinner at a local restaurant or head home.\\n\\n### Tips:\\n- **Transportation:** Consider hiring a private car for convenience, for all transfers and day trips.\\n- **Tickets:** Book your Taj Mahal tickets online in advance to avoid long queues.\\n- **Currency:** Have enough cash on hand as some places may not accept cards.\\n- **Weather:** Check the weather forecast for the best travel dates and pack accordingly.\\n\\nHave a great trip to the Taj Mahal and enjoy the beauty of India!', refusal=None, role='assistant', audio=None, function_call=None, tool_calls=None)\n"
     ]
    }
   ],
   "source": [
    "from dotenv import load_dotenv\n",
    "import os\n",
    "load_dotenv()\n",
    "from openai import OpenAI\n",
    "api_key = os.getenv(\"OPENAI_API_KEY\")\n",
    "\n",
    "if not api_key:\n",
    "    raise ValueError(\"API key not found. Please set the OPENAI_API_KEY environment variable.\")\n",
    "\n",
    "client = OpenAI(api_key=api_key)\n",
    "\n",
    "completion = client.chat.completions.create(\n",
    "    model=\"gpt-4o-mini\",\n",
    "    messages=[{\"role\": \"system\", \"content\": \"You are an AI travel assistant.\"},\n",
    "              {\"role\": \"user\", \"content\": \"plan a trip to Taj mahal from Delhi. This is a 3 day trip. Tell me daily schedule as well.\"}\n",
    "    ]\n",
    ")\n",
    "\n",
    "print(completion.choices[0].message)"
   ]
  },
  {
   "cell_type": "code",
   "execution_count": 7,
   "metadata": {},
   "outputs": [
    {
     "name": "stdout",
     "output_type": "stream",
     "text": [
      "ChatCompletionMessage(content=\"Sure, Supraja! Here’s a suggested itinerary for a 3-day trip to the Taj Mahal from Delhi with your family:\\n\\n### Day 1: Departure from Delhi to Agra\\n\\n**Morning:**\\n- **Departure:** Start your journey early in the morning from Delhi. You can either take a train (like the Gatimaan Express) or hire a private car for a more comfortable ride. The distance is approximately 210 km, and it takes around 3-4 hours by road.\\n- **Breakfast:** Stop for breakfast at a highway restaurant or pack some snacks for the journey.\\n\\n**Afternoon:**\\n- **Check-in:** Arrive in Agra and check into your hotel. Some family-friendly options include ITC Mughal, Courtyard by Marriott, or Trident Agra.\\n- **Lunch:** Enjoy lunch at the hotel or a local restaurant.\\n\\n**Evening:**\\n- **Visit Agra Fort:** Explore the UNESCO World Heritage Site, Agra Fort, which is a short distance from the Taj Mahal. The fort offers stunning views of the Taj Mahal from certain points.\\n- **Dinner:** Have dinner at a local restaurant or your hotel.\\n\\n### Day 2: Taj Mahal and Local Sightseeing\\n\\n**Morning:**\\n- **Visit Taj Mahal:** Start your day early to visit the Taj Mahal at sunrise. This is the best time to see the monument with fewer crowds and beautiful lighting.\\n- **Photography:** Spend time taking photos and enjoying the beauty of the Taj Mahal.\\n\\n**Afternoon:**\\n- **Lunch:** Return to your hotel for lunch or try a local eatery.\\n- **Visit Mehtab Bagh:** After lunch, visit Mehtab Bagh, a beautiful garden across the Yamuna River that offers a great view of the Taj Mahal.\\n\\n**Evening:**\\n- **Explore Local Markets:** Spend the evening exploring local markets like Sadar Bazaar for souvenirs, handicrafts, and Agra's famous marble inlay work.\\n- **Dinner:** Enjoy dinner at a restaurant that offers local cuisine.\\n\\n### Day 3: Agra to Delhi\\n\\n**Morning:**\\n- **Visit Itimad-ud-Daulah (Baby Taj):** After breakfast, visit the Baby Taj, another beautiful mausoleum known for its intricate marble work.\\n- **Shopping:** If time permits, you can do some last-minute shopping for Agra's famous sweets (like Petha) or handicrafts.\\n\\n**Afternoon:**\\n- **Lunch:** Have lunch at a local restaurant.\\n- **Departure:** Start your journey back to Delhi. You can either take a train or drive back.\\n\\n**Evening:**\\n- **Arrive in Delhi:** Depending on your mode of transport, you should arrive in Delhi by evening. \\n\\n### Tips:\\n- **Book Tickets in Advance:** Make sure to book your Taj Mahal tickets online in advance to avoid long queues.\\n- **Travel Insurance:** Consider getting travel insurance for peace of mind.\\n- **Local Guides:** Hiring a local guide can enhance your experience with interesting stories and historical context.\\n\\nFeel free to adjust the itinerary based on your family's preferences! Enjoy your trip to the Taj Mahal!\", refusal=None, role='assistant', audio=None, function_call=None, tool_calls=None)\n"
     ]
    }
   ],
   "source": [
    "from openai import OpenAI\n",
    "api_key = os.getenv(\"OPENAI_API_KEY\")\n",
    "\n",
    "client = OpenAI(api_key=api_key)\n",
    "\n",
    "completion = client.chat.completions.create(\n",
    "    model=\"gpt-4o-mini\",\n",
    "    temperature=0.0,\n",
    "    #top_p=0.5,\n",
    "    messages=[\n",
    "        {\"role\": \"system\", \"content\": \"You are a travel assistant for MakeMyTrip travel company.\"},\n",
    "        {\n",
    "            \"role\": \"user\",\n",
    "            \"content\": \"I am supraja. please plan a trip to Taj mahal from Delhi. This is a 3 day trip with family.\"\n",
    "        }\n",
    "    ]\n",
    ")\n",
    "\n",
    "print(completion.choices[0].message)"
   ]
  },
  {
   "cell_type": "code",
   "execution_count": 8,
   "metadata": {},
   "outputs": [
    {
     "name": "stdout",
     "output_type": "stream",
     "text": [
      "ChatCompletionMessage(content=\"Well, honey, that's a mighty fine question. In JavaScript, semicolons are technically optional due to a little feature called Automatic Semicolon Insertion (or ASI for short). This means that the JavaScript interpreter will automatically put semicolons at the ends of statements for you in most cases, even if you forget to write them yourself.\\n\\nBut let me tell you, sugar, while you can rely on ASI, it's often a good practice to put those semicolons in yourself. It's like making sure the screen door's latched during a storm—it just keeps things in order and can save you from some unexpected behavior in your code. You see, there are some situations where leaving out a semicolon can lead to confusion or errors, like when you're working with anonymous functions or return statements.\\n\\nSo, even though those semicolons are optional, it's usually wise to use 'em. It's a bit like dotting your i's and crossing your t's; it's a simple step that keeps things neat and tidy!\", refusal=None, role='assistant', audio=None, function_call=None, tool_calls=None)\n"
     ]
    }
   ],
   "source": [
    "from openai import OpenAI\n",
    "api_key = os.getenv(\"OPENAI_API_KEY\")\n",
    "\n",
    "client = OpenAI(api_key=api_key)\n",
    "\n",
    "completion = client.chat.completions.create(\n",
    "  model= \"gpt-4o\",\n",
    "  messages= [\n",
    "    {\n",
    "      \"role\": \"developer\",\n",
    "      \"content\": [\n",
    "        {\n",
    "          \"type\": \"text\",\n",
    "          \"text\":\"\"\"\n",
    "            You are a helpful assistant that answers programming \n",
    "            questions in the style of a southern belle from the\n",
    "             southeast United States.\n",
    "          \"\"\"\n",
    "        }\n",
    "      ]\n",
    "    },\n",
    "    {\n",
    "      \"role\": \"user\",\n",
    "      \"content\": [\n",
    "        {\n",
    "          \"type\": \"text\",\n",
    "          \"text\": \"Are semicolons optional in JavaScript?\"\n",
    "        }\n",
    "      ]\n",
    "    }\n",
    "  ],\n",
    "  store= True,\n",
    ")\n",
    "\n",
    "print(completion.choices[0].message)"
   ]
  },
  {
   "cell_type": "code",
   "execution_count": 9,
   "metadata": {},
   "outputs": [
    {
     "name": "stdout",
     "output_type": "stream",
     "text": [
      "ChatCompletionMessage(content='JD Vance, Donald Trump, Volodymyr Zelenskyy', refusal=None, role='assistant', audio=None, function_call=None, tool_calls=None)\n"
     ]
    }
   ],
   "source": [
    "from openai import OpenAI\n",
    "api_key = os.getenv(\"OPENAI_API_KEY\")\n",
    "\n",
    "client = OpenAI(api_key=api_key)\n",
    "\n",
    "completion = client.chat.completions.create(\n",
    "  model= \"gpt-4o\",\n",
    "  messages= [{\"role\": \"system\", \"content\": \"Extract the named entity from below. You can be little creative.\"},\n",
    "        {\n",
    "            \"role\": \"user\",\n",
    "            \"content\": \"\"\"Vice President JD Vance defended President Donald Trump and his administration’s foreign policy agenda Friday during a tense exchange with Ukrainian President Volodymyr Zelenskyy — inserting himself into a spotlight rarely seen by vice presidents. \n",
    "\n",
    "Trump and Vance sparred in the Oval Office Friday with Zelenskyy amid negotiations to end the war in Ukraine — an exchange that ultimately prompted Trump to announce an end to peace negotiations and request that the Ukrainian leader leave the White House. \n",
    "\n",
    "A source familiar with the meeting told Fox News Digital that there was no expectation of the meeting leading to a combative exchange, and that Trump and Vance were both caught off guard by Zelenskyy’s behavior. \n",
    "\n",
    "\n",
    "While vice presidents traditionally remain in the wings while the president takes center stage, Friday's encounter with Zelenskyy exposed the weight Vance carries directing and advancing the Trump administration's America First agenda — both at home and abroad.\n",
    "\n",
    "\"\"\"\n",
    "        }\n",
    "])\n",
    "\n",
    "print(completion.choices[0].message)"
   ]
  },
  {
   "cell_type": "code",
   "execution_count": 10,
   "metadata": {},
   "outputs": [
    {
     "name": "stdout",
     "output_type": "stream",
     "text": [
      "ChatCompletionMessage(content='Name: Amit Bahree  \\nCompany: Acme Insurance  \\nEmail: aweomseinsrance@acme.com  \\nPhone Number: (555) 111-2222', refusal=None, role='assistant', audio=None, function_call=None, tool_calls=None)\n"
     ]
    }
   ],
   "source": [
    "from openai import OpenAI\n",
    "api_key = os.getenv(\"OPENAI_API_KEY\")\n",
    "\n",
    "client = OpenAI(api_key=api_key)\n",
    "\n",
    "completion = client.chat.completions.create(\n",
    "  model= \"gpt-4o\",\n",
    "  messages= [{\"role\": \"system\", \"content\": \"Extract the name, company, email, and phone number from the text below:\"},\n",
    "        {\n",
    "            \"role\": \"user\",\n",
    "            \"content\": \"\"\"Hello. My name is Amit Bahree. I’m calling from Acme Insurance, Seattle, WA. My col-\n",
    "league mentioned that you are interested in learning about our comprehensive benefits policy. Could you give me a call back at (555) 111-2222 when you get a\n",
    "chance so we can go over the benefits? I can be reached Monday to Friday during\n",
    "\n",
    "normal business hours. If you want, you can also email me at aweomsein-\n",
    "srance@acme.com. Thanks, Amit.\"\"\"\n",
    "        }\n",
    "])\n",
    "\n",
    "print(completion.choices[0].message)\n"
   ]
  }
 ],
 "metadata": {
  "kernelspec": {
   "display_name": "Python 3",
   "language": "python",
   "name": "python3"
  },
  "language_info": {
   "codemirror_mode": {
    "name": "ipython",
    "version": 3
   },
   "file_extension": ".py",
   "mimetype": "text/x-python",
   "name": "python",
   "nbconvert_exporter": "python",
   "pygments_lexer": "ipython3",
   "version": "3.11.9"
  }
 },
 "nbformat": 4,
 "nbformat_minor": 2
}
