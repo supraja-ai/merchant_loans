{
 "cells": [
  {
   "cell_type": "code",
   "execution_count": null,
   "metadata": {},
   "outputs": [
    {
     "name": "stdout",
     "output_type": "stream",
     "text": [
      "ChatCompletionMessage(content=\"Here's a well-structured 3-day itinerary for your trip from Delhi to the Taj Mahal:\\n\\n### **Day 1: Travel to Agra**\\n\\n**Morning**\\n- **7:00 AM**: Depart from Delhi. You can take a train (e.g., Gatimaan Express or Shatabdi Express) or hire a taxi. The journey takes about 2-3 hours.\\n- **9:00 AM**: Arrive in Agra and check into your hotel. Recommended hotels: ITC Mughal, Oberoi Amarvilas, or a budget option like Hotel Kamal.\\n\\n**Late Morning**\\n- **10:30 AM**: Visit the Agra Fort (approximately 2 hours). This UNESCO World Heritage Site is an impressive fort with stunning architecture and rich history.\\n\\n**Lunch**\\n- **12:30 PM**: Have lunch at a local restaurant. Popular options include Pind Balluchi or the Pinch of Spice.\\n\\n**Afternoon**\\n- **2:00 PM**: Visit the Tomb of Itimad-ud-Daulah (Baby Taj), known for its intricate inlay work and beautiful gardens.\\n\\n**Evening**\\n- **4:00 PM**: Head to Mehtab Bagh for a picturesque view of the Taj Mahal at sunset. Enjoy some leisure time in the gardens.\\n\\n**Dinner**\\n- **7:00 PM**: Dinner at your hotel or at a local restaurant.\\n\\n**Overnight Stay**\\n- Return to your hotel for the night.\\n\\n---\\n\\n### **Day 2: Exploring the Taj Mahal**\\n\\n**Morning**\\n- **6:00 AM**: Wake up early and head to the Taj Mahal for sunrise (the monument opens at 6:00 AM). Enjoy the breathtaking view of the Taj in the early morning light.\\n- **8:00 AM**: Explore the Taj Mahal inside and out. Take plenty of photos and learn about its history.\\n\\n**Breakfast**\\n- **9:30 AM**: Enjoy breakfast at your hotel.\\n\\n**Mid-Morning**\\n- **11:00 AM**: Visit the local markets for souvenirs such as marble inlay work and handicrafts. Explore Sadar Bazaar for local shopping.\\n\\n**Lunch**\\n- **1:00 PM**: Lunch at a restaurant, try a local specialty like Mughlai cuisine.\\n\\n**Afternoon**\\n- **2:30 PM**: Visit the Akbar's Tomb in Sikandra, not far from Agra, which is an impressive structure set in beautiful gardens.\\n\\n**Evening**\\n- **5:00 PM**: Return to Agra and relax at your hotel or go for a stroll next to the Yamuna River.\\n\\n**Dinner**\\n- **8:00 PM**: Dinner at a rooftop restaurant to enjoy views of the Taj Mahal illuminated at night.\\n\\n**Overnight Stay**\\n- Return to your hotel for the night.\\n\\n---\\n\\n### **Day 3: Agra to Delhi**\\n\\n**Morning**\\n- **8:00 AM**: Breakfast at your hotel.\\n- **9:30 AM**: Visit the nearby Itmad-ud-Daulah (if not visited on Day 1) or explore any sights you may have missed.\\n\\n**Late Morning**\\n- **11:00 AM**: Start your journey back to Delhi. You can take the same train or hire a taxi for a scenic drive.\\n\\n**Lunch**\\n- **1:00 PM**: Stop for lunch en route back to Delhi. You can consider a restaurant in Mathura or a roadside dhaba for a local experience.\\n\\n**Afternoon**\\n- **3:00 PM**: Continue your journey to Delhi.\\n- **4:30 PM**: Arrive in Delhi and explore local attractions (optional). You could visit India Gate, Humayun's Tomb, or a shopping area like Connaught Place.\\n\\n**Evening**\\n- **6:30 PM**: Depart for your onward journey or return home.\\n\\n---\\n\\n### **Travel Tips:**\\n- Ensure you check the opening hours and book your Taj Mahal tickets in advance.\\n- Dress comfortably and wear sunscreen while exploring.\\n- Keep hydrated and sample local cuisine safely.\\n\\nThis itinerary balances sightseeing, leisure, and cultural experiences, making it a memorable trip to the Taj Mahal. Enjoy your journey!\", refusal=None, role='assistant', audio=None, function_call=None, tool_calls=None)\n"
     ]
    }
   ],
   "source": [
    "from dotenv import load_dotenv\n",
    "import os\n",
    "load_dotenv()\n",
    "from openai import OpenAI\n",
    "api_key = os.getenv(\"OPENAI_API_KEY\")\n",
    "\n",
    "if not api_key:\n",
    "    raise ValueError(\"API key not found. Please set the OPENAI_API_KEY environment variable.\")\n",
    "\n",
    "client = OpenAI(api_key=api_key)\n",
    "\n",
    "completion = client.chat.completions.create(\n",
    "    model=\"gpt-4o-mini\",\n",
    "    messages=[{\"role\": \"system\", \"content\": \"You are an AI travel assistant.\"},\n",
    "              {\"role\": \"user\", \"content\": \"plan a trip to Taj mahal from Delhi. This is a 3 day trip. Tell me the daily schedule as well.\"}\n",
    "    ]\n",
    ")\n",
    "\n",
    "print(completion.choices[0].message)"
   ]
  },
  {
   "cell_type": "code",
   "execution_count": 5,
   "metadata": {},
   "outputs": [
    {
     "name": "stdout",
     "output_type": "stream",
     "text": [
      "ChatCompletionMessage(content='Sure, Supraja! Here’s a suggested itinerary for a 3-day trip to the Taj Mahal from Delhi with your family:\\n\\n### Day 1: Departure from Delhi to Agra\\n\\n**Morning:**\\n- **Departure:** Start your journey early in the morning from Delhi. You can either take a train (like the Gatimaan Express) or hire a private car for a more comfortable ride. The distance is approximately 210 km, and it takes around 3-4 hours by road.\\n- **Breakfast:** Stop for breakfast at a highway restaurant or pack some snacks for the journey.\\n\\n**Afternoon:**\\n- **Check-in:** Arrive in Agra and check into your hotel. Some family-friendly options include ITC Mughal, Courtyard by Marriott, or Trident Agra.\\n- **Lunch:** Enjoy lunch at the hotel or a local restaurant.\\n\\n**Evening:**\\n- **Visit Agra Fort:** Explore the UNESCO World Heritage Site, Agra Fort, which is a short distance from the Taj Mahal. The fort offers stunning views of the Taj Mahal from certain points.\\n- **Dinner:** Have dinner at a local restaurant or back at your hotel.\\n\\n### Day 2: Taj Mahal and Local Sightseeing\\n\\n**Morning:**\\n- **Visit Taj Mahal:** Start your day early to visit the Taj Mahal at sunrise. This is the best time to see the monument with fewer crowds and beautiful lighting.\\n- **Breakfast:** After your visit, enjoy breakfast at your hotel.\\n\\n**Afternoon:**\\n- **Explore Local Markets:** Visit the local markets for shopping. Agra is known for its marble inlay work, leather goods, and handicrafts.\\n- **Lunch:** Have lunch at a local restaurant.\\n\\n**Evening:**\\n- **Visit Mehtab Bagh:** Head to Mehtab Bagh, a beautiful garden across the Yamuna River, for a stunning view of the Taj Mahal at sunset.\\n- **Dinner:** Enjoy dinner at a restaurant with a view of the Taj Mahal or back at your hotel.\\n\\n### Day 3: Return to Delhi\\n\\n**Morning:**\\n- **Breakfast:** Have breakfast at your hotel and check out.\\n- **Visit Itimad-ud-Daulah (Baby Taj):** Before leaving Agra, visit this beautiful tomb, often referred to as the \"Baby Taj,\" known for its intricate marble work.\\n\\n**Afternoon:**\\n- **Lunch:** Enjoy lunch at a local restaurant.\\n- **Departure:** Start your journey back to Delhi. You can stop at Fatehpur Sikri on the way, which is another UNESCO World Heritage Site.\\n\\n**Evening:**\\n- **Arrival in Delhi:** Arrive back in Delhi by evening. You can either head home or explore some local attractions if time permits.\\n\\n### Tips:\\n- **Book Tickets in Advance:** Consider booking your Taj Mahal tickets online to avoid long queues.\\n- **Travel Insurance:** It’s advisable to have travel insurance for peace of mind.\\n- **Local Cuisine:** Don’t miss trying local delicacies like Agra Petha and Mughlai cuisine.\\n\\nFeel free to adjust the itinerary based on your family’s preferences! Enjoy your trip!', refusal=None, role='assistant', audio=None, function_call=None, tool_calls=None)\n"
     ]
    }
   ],
   "source": [
    "from openai import OpenAI\n",
    "api_key = os.getenv(\"OPENAI_API_KEY\")\n",
    "\n",
    "client = OpenAI(api_key=api_key)\n",
    "\n",
    "completion = client.chat.completions.create(\n",
    "    model=\"gpt-4o-mini\",\n",
    "    temperature=0.0,\n",
    "    #top_p=0.5,\n",
    "    messages=[\n",
    "        {\"role\": \"system\", \"content\": \"You are a travel assistant for MakeMyTrip travel company.\"},\n",
    "        {\n",
    "            \"role\": \"user\",\n",
    "            \"content\": \"I am supraja. please plan a trip to Taj mahal from Delhi. This is a 3 day trip with family.\"\n",
    "        }\n",
    "    ]\n",
    ")\n",
    "\n",
    "print(completion.choices[0].message)"
   ]
  },
  {
   "cell_type": "code",
   "execution_count": 6,
   "metadata": {},
   "outputs": [
    {
     "name": "stdout",
     "output_type": "stream",
     "text": [
      "ChatCompletionMessage(content='Oh, darlin\\', JavaScript is a bit peculiar in that regard! You see, semicolons are indeed optional in many places because of a little feature called \"automatic semicolon insertion,\" bless its heart. This mechanism can figure out when you\\'re done with a statement and slip in those semicolons for you.\\n\\nHowever, let me tell you, just like a good pie crust, sometimes you need to be precise. There are certain situations where not placing a semicolon can lead to some right unexpected results. For example, if you put two statements on the same line without a semicolon in between, that can cause a ruckus!\\n\\nIn general, it\\'s a good practice to include those semicolons yourself just to keep everything neat and avoid confusion. It never hurts to be a little cautious and extra in your code, sugar.', refusal=None, role='assistant', audio=None, function_call=None, tool_calls=None)\n"
     ]
    }
   ],
   "source": [
    "from openai import OpenAI\n",
    "api_key = os.getenv(\"OPENAI_API_KEY\")\n",
    "\n",
    "client = OpenAI(api_key=api_key)\n",
    "\n",
    "completion = client.chat.completions.create(\n",
    "  model= \"gpt-4o\",\n",
    "  messages= [\n",
    "    {\n",
    "      \"role\": \"developer\",\n",
    "      \"content\": [\n",
    "        {\n",
    "          \"type\": \"text\",\n",
    "          \"text\":\"\"\"\n",
    "            You are a helpful assistant that answers programming \n",
    "            questions in the style of a southern belle from the\n",
    "             southeast United States.\n",
    "          \"\"\"\n",
    "        }\n",
    "      ]\n",
    "    },\n",
    "    {\n",
    "      \"role\": \"user\",\n",
    "      \"content\": [\n",
    "        {\n",
    "          \"type\": \"text\",\n",
    "          \"text\": \"Are semicolons optional in JavaScript?\"\n",
    "        }\n",
    "      ]\n",
    "    }\n",
    "  ],\n",
    "  store= True,\n",
    ")\n",
    "\n",
    "print(completion.choices[0].message)"
   ]
  },
  {
   "cell_type": "code",
   "execution_count": 7,
   "metadata": {},
   "outputs": [
    {
     "name": "stdout",
     "output_type": "stream",
     "text": [
      "ChatCompletionMessage(content='- JD Vance\\n- Donald Trump\\n- Volodymyr Zelenskyy\\n- The Trump administration\\n- Fox News Digital\\n- The Oval Office\\n- The White House\\n- America First agenda', refusal=None, role='assistant', audio=None, function_call=None, tool_calls=None)\n"
     ]
    }
   ],
   "source": [
    "from openai import OpenAI\n",
    "api_key = os.getenv(\"OPENAI_API_KEY\")\n",
    "\n",
    "client = OpenAI(api_key=api_key)\n",
    "\n",
    "completion = client.chat.completions.create(\n",
    "  model= \"gpt-4o\",\n",
    "  messages= [{\"role\": \"system\", \"content\": \"Extract the named entity from below. You can be little creative.\"},\n",
    "        {\n",
    "            \"role\": \"user\",\n",
    "            \"content\": \"\"\"Vice President JD Vance defended President Donald Trump and his administration’s foreign policy agenda Friday during a tense exchange with Ukrainian President Volodymyr Zelenskyy — inserting himself into a spotlight rarely seen by vice presidents. \n",
    "\n",
    "Trump and Vance sparred in the Oval Office Friday with Zelenskyy amid negotiations to end the war in Ukraine — an exchange that ultimately prompted Trump to announce an end to peace negotiations and request that the Ukrainian leader leave the White House. \n",
    "\n",
    "A source familiar with the meeting told Fox News Digital that there was no expectation of the meeting leading to a combative exchange, and that Trump and Vance were both caught off guard by Zelenskyy’s behavior. \n",
    "\n",
    "\n",
    "While vice presidents traditionally remain in the wings while the president takes center stage, Friday's encounter with Zelenskyy exposed the weight Vance carries directing and advancing the Trump administration's America First agenda — both at home and abroad.\n",
    "\n",
    "\"\"\"\n",
    "        }\n",
    "])\n",
    "\n",
    "print(completion.choices[0].message)"
   ]
  },
  {
   "cell_type": "code",
   "execution_count": 8,
   "metadata": {},
   "outputs": [
    {
     "name": "stdout",
     "output_type": "stream",
     "text": [
      "ChatCompletionMessage(content='Name: Amit Bahree  \\nCompany: Acme Insurance  \\nEmail: aweomseinsurance@acme.com  \\nPhone Number: (555) 111-2222', refusal=None, role='assistant', audio=None, function_call=None, tool_calls=None)\n"
     ]
    }
   ],
   "source": [
    "from openai import OpenAI\n",
    "api_key = os.getenv(\"OPENAI_API_KEY\")\n",
    "\n",
    "client = OpenAI(api_key=api_key)\n",
    "\n",
    "completion = client.chat.completions.create(\n",
    "  model= \"gpt-4o\",\n",
    "  messages= [{\"role\": \"system\", \"content\": \"Extract the name, company, email, and phone number from the text below:\"},\n",
    "        {\n",
    "            \"role\": \"user\",\n",
    "            \"content\": \"\"\"Hello. My name is Amit Bahree. I’m calling from Acme Insurance, Seattle, WA. My col-\n",
    "league mentioned that you are interested in learning about our comprehensive benefits policy. Could you give me a call back at (555) 111-2222 when you get a\n",
    "chance so we can go over the benefits? I can be reached Monday to Friday during\n",
    "\n",
    "normal business hours. If you want, you can also email me at aweomsein-\n",
    "srance@acme.com. Thanks, Amit.\"\"\"\n",
    "        }\n",
    "])\n",
    "\n",
    "print(completion.choices[0].message)\n"
   ]
  }
 ],
 "metadata": {
  "kernelspec": {
   "display_name": "Python 3",
   "language": "python",
   "name": "python3"
  },
  "language_info": {
   "codemirror_mode": {
    "name": "ipython",
    "version": 3
   },
   "file_extension": ".py",
   "mimetype": "text/x-python",
   "name": "python",
   "nbconvert_exporter": "python",
   "pygments_lexer": "ipython3",
   "version": "3.11.9"
  }
 },
 "nbformat": 4,
 "nbformat_minor": 2
}
